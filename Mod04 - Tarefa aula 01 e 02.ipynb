{
 "cells": [
  {
   "cell_type": "markdown",
   "metadata": {},
   "source": [
    "# Tarefa 01\n",
    "\n",
    "- Leia os enunciados com atenção\n",
    "- Saiba que pode haver mais de uma resposta correta\n",
    "- Insira novas células de código sempre que achar necessário\n",
    "- Em caso de dúvidas, procure os tutores\n",
    "- Divirta-se :)\n",
    "\n",
    "#### 1)  crie uma série do pandas a partir de uma lista com os dados abaixo:\n",
    "\n",
    "Em um estudo sobre alteração na tempreatura global, A NASA disponibiliza dados de diferenças de de temperatura média da superfície terrestre relativos às médias de temperatura entre 1951 e 1980. Os dados originais podem ser vistos no site da NASA/GISS, e estão dispostos a cada década na tabela abaixo.\n",
    "\n",
    "|ano|anomalia termica|\n",
    "|:-:|:----:|\n",
    "| 1900 | -0.08 |\n",
    "| 1920 | -0.27 |\n",
    "| 1940 | 0.12 |\n",
    "| 1960 | -0.03 |\n",
    "| 1980 | 0.26 |\n",
    "| 2000 | 0.40 |\n",
    "| 2020 | 1.02 |\n",
    "\n",
    "Crie uma séries do Pandas a partir de uma lista com esses dados."
   ]
  },
  {
   "cell_type": "code",
   "execution_count": 9,
   "metadata": {},
   "outputs": [
    {
     "name": "stdout",
     "output_type": "stream",
     "text": [
      "0    1900\n",
      "1    1920\n",
      "2    1940\n",
      "3    1960\n",
      "4    1980\n",
      "5    2000\n",
      "6    2020\n",
      "dtype: int64\n"
     ]
    }
   ],
   "source": [
    "import pandas as pd\n",
    "import numpy as np\n",
    "\n",
    "dados = [1900, 1920, 1940, 1960, 1980, 2000, 2020]\n",
    "serie = pd.Series(dados)\n",
    "print(serie)\n",
    "\n",
    "# Seu código aqui"
   ]
  },
  {
   "cell_type": "markdown",
   "metadata": {},
   "source": [
    "#### 2) Coloque os anos nos índices conforme a tabela."
   ]
  },
  {
   "cell_type": "code",
   "execution_count": 2,
   "metadata": {},
   "outputs": [
    {
     "name": "stdout",
     "output_type": "stream",
     "text": [
      "-0.08    1900\n",
      "-0.27    1920\n",
      " 0.12    1940\n",
      "-0.03    1960\n",
      " 0.26    1980\n",
      " 0.40    2000\n",
      " 1.02    2020\n",
      "dtype: int64\n"
     ]
    }
   ],
   "source": [
    "indice = [-0.08, -0.27,0.12, -0.03, 0.26 , 0.40, 1.02]\n",
    "dados = [1900, 1920, 1940, 1960, 1980, 2000, 2020]\n",
    "serie = pd.Series(dados, index=indice )\n",
    "print(serie)\n"
   ]
  },
  {
   "cell_type": "markdown",
   "metadata": {},
   "source": [
    "#### 3) A partir do dicionário abaixo, crie uma séries do Pandas:"
   ]
  },
  {
   "cell_type": "code",
   "execution_count": 3,
   "metadata": {},
   "outputs": [
    {
     "name": "stdout",
     "output_type": "stream",
     "text": [
      "1900   -0.08\n",
      "1920   -0.27\n",
      "1940    0.12\n",
      "1960   -0.03\n",
      "1980    0.26\n",
      "2000    0.40\n",
      "2020    1.02\n",
      "dtype: float64\n"
     ]
    }
   ],
   "source": [
    "dic_temperaturas = {1900: -.08, 1920: -.27, 1940: .12, 1960: -.03, 1980: .26, 2000: .40, 2020: 1.02}\n",
    "serie = pd.Series(dic_temperaturas)\n",
    "# seu código aqui\n",
    "print(serie)"
   ]
  },
  {
   "cell_type": "markdown",
   "metadata": {},
   "source": [
    "#### 4) Transforme o ndarray abaixo em um dataframe. \n",
    "O numpy é capaz de gerar arrays n-dimensionais com números pseudo-aleatórios de acordo com uma variedade de distribuições, como no exemplo abaixo. Transforme esse nd-array em um DataFrame."
   ]
  },
  {
   "cell_type": "code",
   "execution_count": 4,
   "metadata": {},
   "outputs": [
    {
     "name": "stdout",
     "output_type": "stream",
     "text": [
      "             0           1           2\n",
      "0   104.055553   91.978090  103.266635\n",
      "1   121.459858  102.562403  118.439342\n",
      "2    91.741998   97.838026  101.734365\n",
      "3   106.477079  113.875955   99.505785\n",
      "4    95.043599   95.246195  109.861160\n",
      "5    90.310976   89.558201   99.567637\n",
      "6   112.157961   94.237552   89.544136\n",
      "7    99.851913   96.188338  119.792503\n",
      "8   115.257817   92.403384   94.600698\n",
      "9   114.852236  107.852855  106.339236\n",
      "10   87.825190  111.449676   98.777501\n",
      "11   82.588547   94.600798  101.830504\n",
      "12   91.798225   95.998758  104.101755\n",
      "13  118.860601   92.683031  108.198177\n",
      "14  111.762965   87.446265  114.644772\n",
      "15  105.394987  109.669631  119.607027\n",
      "16  107.928639   85.084831  104.879988\n",
      "17   99.520612  118.758460   83.351489\n",
      "18  103.204300  115.111421   99.240387\n",
      "19  104.386315  103.680463   99.367935\n"
     ]
    }
   ],
   "source": [
    "arr = np.random.normal(100, 10, (20,3))\n",
    "df = pd.DataFrame(arr)\n",
    "\n",
    "print(df)\n",
    "# seu código aqui"
   ]
  },
  {
   "cell_type": "markdown",
   "metadata": {},
   "source": [
    "#### 5) Nomeie os índices das linhas com inteiros de 1 a 20, e as colunas com os nomes \"x1\", \"x2\", e \"x3\" respectivamente."
   ]
  },
  {
   "cell_type": "code",
   "execution_count": 5,
   "metadata": {},
   "outputs": [
    {
     "name": "stdout",
     "output_type": "stream",
     "text": [
      "            x1          x2          x3\n",
      "1   120.653695  109.275655  106.186088\n",
      "2   107.652385   92.695410  110.395998\n",
      "3    95.623153   94.532688  101.574689\n",
      "4   107.098350   87.910116   89.160995\n",
      "5    90.799942   91.799009   89.002761\n",
      "6    76.578463  101.272796  100.159999\n",
      "7   106.335223   87.742455  102.476330\n",
      "8    95.941038  107.547226  101.929807\n",
      "9    98.026591   99.288424   92.712488\n",
      "10   98.802156   87.332483  101.021019\n",
      "11   96.293763  105.822117   97.334265\n",
      "12   97.104836   92.190001   90.557931\n",
      "13   99.902386   92.713256  113.604692\n",
      "14   91.252853   86.082295   95.855793\n",
      "15   88.843498   90.309138   98.622038\n",
      "16   85.082961  103.258069  112.366385\n",
      "17  103.308835   88.177138   96.428738\n",
      "18  102.169575   96.244725   87.421136\n",
      "19   98.632695   84.886038  110.116790\n",
      "20  114.207379   91.613079  100.725275\n"
     ]
    }
   ],
   "source": [
    "#seu código aqui\n",
    "ndarray = np.random.normal(100, 10, (20,3))\n",
    "nomes_colunas = ['x1', 'x2', 'x3']\n",
    "df = pd.DataFrame(ndarray, index=range(1, 21), columns=nomes_colunas)\n",
    "np.savetxt('indices.csv', ndarray, delimiter=',')\n",
    "print(df)\n"
   ]
  },
  {
   "cell_type": "markdown",
   "metadata": {},
   "source": [
    "#### 6) No DataFrame do exercício 5, crie uma nova coluna como sendo a média das três colunas, e dê a ela o nome de \"media\" (não recomendo colocar acentos em nomes de variáveis)."
   ]
  },
  {
   "cell_type": "code",
   "execution_count": 6,
   "metadata": {},
   "outputs": [
    {
     "name": "stdout",
     "output_type": "stream",
     "text": [
      "[[120.65369498 109.27565459 106.18608776 112.03847911]\n",
      " [107.65238492  92.69541049 110.39599841 103.58126461]\n",
      " [ 95.623153    94.53268793 101.57468896  97.24350996]\n",
      " [107.09834955  87.91011599  89.16099545  94.72315366]\n",
      " [ 90.79994239  91.79900945  89.00276092  90.53390425]\n",
      " [ 76.57846329 101.27279583 100.15999874  92.67041929]\n",
      " [106.33522281  87.74245451 102.47633     98.85133577]\n",
      " [ 95.94103793 107.54722584 101.92980667 101.80602348]\n",
      " [ 98.02659111  99.28842407  92.71248825  96.67583448]\n",
      " [ 98.80215613  87.33248313 101.02101853  95.7185526 ]\n",
      " [ 96.29376326 105.82211654  97.33426538  99.81671506]\n",
      " [ 97.10483645  92.19000108  90.55793123  93.28425625]\n",
      " [ 99.90238582  92.71325609 113.60469165 102.07344452]\n",
      " [ 91.25285348  86.08229452  95.85579259  91.06364687]\n",
      " [ 88.84349754  90.3091379   98.62203836  92.59155793]\n",
      " [ 85.08296076 103.25806886 112.36638479 100.2358048 ]\n",
      " [103.30883473  88.17713796  96.42873805  95.97157025]\n",
      " [102.16957521  96.24472456  87.42113618  95.27847865]\n",
      " [ 98.63269502  84.88603766 110.11679024  97.87850764]\n",
      " [114.20737945  91.61307862 100.72527534 102.18191114]]\n"
     ]
    }
   ],
   "source": [
    "\n",
    "data = np.loadtxt('indices.csv', delimiter=',')\n",
    "\n",
    "\n",
    "#calculando a media\n",
    "media_coluna1 = np.mean(data[:, 0])\n",
    "media_coluna2 = np.mean(data[:, 1])\n",
    "media_coluna3 = np.mean(data[:, 2])\n",
    "\n",
    "#Criando nova coluna com a média\n",
    "media_colunas = (data[:, 0] + data[:, 1] + data[:, 2]) / 3\n",
    "nova_coluna = np.reshape(media_colunas, (len(media_colunas), 1))\n",
    "\n",
    "#Concatenando nova coluna\n",
    "data_nova_coluna = np.concatenate((data, nova_coluna), axis=1)\n",
    "\n",
    "\n",
    "#Salvando em csv\n",
    "np.savetxt('indices_media.csv', data_nova_coluna, delimiter=',')   \n",
    "\n",
    "print(data_nova_coluna)"
   ]
  },
  {
   "cell_type": "markdown",
   "metadata": {},
   "source": [
    "#### 7) No DataFrame do exercício 6, crie uma nova coluna chamada \"log_med\", contendo o logaritmo natural da média calculada no exercício 6 <br>\n"
   ]
  },
  {
   "cell_type": "code",
   "execution_count": 19,
   "metadata": {},
   "outputs": [
    {
     "name": "stdout",
     "output_type": "stream",
     "text": [
      "[[120.65369498 109.27565459 106.18608776]\n",
      " [107.65238492  92.69541049 110.39599841]\n",
      " [ 95.623153    94.53268793 101.57468896]\n",
      " [107.09834955  87.91011599  89.16099545]\n",
      " [ 90.79994239  91.79900945  89.00276092]\n",
      " [ 76.57846329 101.27279583 100.15999874]\n",
      " [106.33522281  87.74245451 102.47633   ]\n",
      " [ 95.94103793 107.54722584 101.92980667]\n",
      " [ 98.02659111  99.28842407  92.71248825]\n",
      " [ 98.80215613  87.33248313 101.02101853]\n",
      " [ 96.29376326 105.82211654  97.33426538]\n",
      " [ 97.10483645  92.19000108  90.55793123]\n",
      " [ 99.90238582  92.71325609 113.60469165]\n",
      " [ 91.25285348  86.08229452  95.85579259]\n",
      " [ 88.84349754  90.3091379   98.62203836]\n",
      " [ 85.08296076 103.25806886 112.36638479]\n",
      " [103.30883473  88.17713796  96.42873805]\n",
      " [102.16957521  96.24472456  87.42113618]\n",
      " [ 98.63269502  84.88603766 110.11679024]\n",
      " [114.20737945  91.61307862 100.72527534]]\n"
     ]
    }
   ],
   "source": [
    "\n",
    "\n",
    "# Cálculo da média\n",
    "media_coluna1 = np.mean(data[:, 0])\n",
    "media_coluna2 = np.mean(data[:, 1])\n",
    "media_coluna3 = np.mean(data[:, 2])\n",
    "\n",
    "# Cálculo do logaritmo natural da média\n",
    "log_med = np.log((media_coluna1 + media_coluna2 + media_coluna3) / 3)\n",
    "\n",
    "# Criação da nova coluna \"log_med\"\n",
    "#data['log_med'] = log_med\n",
    "\n",
    "# Imprimindo o DataFrame atualizado\n",
    "print(data)\n",
    "\n"
   ]
  },
  {
   "cell_type": "code",
   "execution_count": null,
   "metadata": {},
   "outputs": [],
   "source": []
  }
 ],
 "metadata": {
  "kernelspec": {
   "display_name": "Python 3 (ipykernel)",
   "language": "python",
   "name": "python3"
  },
  "language_info": {
   "codemirror_mode": {
    "name": "ipython",
    "version": 3
   },
   "file_extension": ".py",
   "mimetype": "text/x-python",
   "name": "python",
   "nbconvert_exporter": "python",
   "pygments_lexer": "ipython3",
   "version": "3.10.6"
  }
 },
 "nbformat": 4,
 "nbformat_minor": 4
}
