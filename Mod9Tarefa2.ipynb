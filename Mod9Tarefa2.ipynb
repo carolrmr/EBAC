{
 "cells": [
  {
   "attachments": {},
   "cell_type": "markdown",
   "metadata": {},
   "source": [
    "# Livro para consulta:\n",
    "- https://jakevdp.github.io/PythonDataScienceHandbook/03.08-aggregation-and-grouping.html\n",
    "- https://jakevdp.github.io/PythonDataScienceHandbook/03.09-pivot-tables.html\n",
    "    "
   ]
  },
  {
   "attachments": {},
   "cell_type": "markdown",
   "metadata": {},
   "source": [
    "# 1. Importando bibliotecas <a name=\"import\"></a>\n",
    "\n",
    "<div style=\"text-align: right\"\n",
    "     \n",
    "[Voltar ao índice](#Contents)"
   ]
  },
  {
   "cell_type": "code",
   "execution_count": 1,
   "metadata": {
    "ExecuteTime": {
     "end_time": "2021-06-06T21:12:37.298706Z",
     "start_time": "2021-06-06T21:12:36.656481Z"
    }
   },
   "outputs": [],
   "source": [
    "import numpy as np\n",
    "import pandas as pd\n",
    "import seaborn as sns\n",
    "import matplotlib.pyplot as plt\n",
    "\n",
    "%matplotlib inline"
   ]
  },
  {
   "cell_type": "code",
   "execution_count": null,
   "metadata": {},
   "outputs": [],
   "source": []
  },
  {
   "attachments": {},
   "cell_type": "markdown",
   "metadata": {},
   "source": [
    "# 2. Carregando o dataframe SINASC <a name=\"read\"></a>\n",
    "<div style=\"text-align: right\"\n",
    "     \n",
    "[Voltar ao índice](#Contents)"
   ]
  },
  {
   "cell_type": "code",
   "execution_count": 3,
   "metadata": {
    "ExecuteTime": {
     "end_time": "2021-06-06T21:12:37.762376Z",
     "start_time": "2021-06-06T21:12:37.728383Z"
    },
    "scrolled": true
   },
   "outputs": [
    {
     "data": {
      "text/html": [
       "<div>\n",
       "<style scoped>\n",
       "    .dataframe tbody tr th:only-of-type {\n",
       "        vertical-align: middle;\n",
       "    }\n",
       "\n",
       "    .dataframe tbody tr th {\n",
       "        vertical-align: top;\n",
       "    }\n",
       "\n",
       "    .dataframe thead th {\n",
       "        text-align: right;\n",
       "    }\n",
       "</style>\n",
       "<table border=\"1\" class=\"dataframe\">\n",
       "  <thead>\n",
       "    <tr style=\"text-align: right;\">\n",
       "      <th></th>\n",
       "      <th>ORIGEM</th>\n",
       "      <th>CODESTAB</th>\n",
       "      <th>CODMUNNASC</th>\n",
       "      <th>LOCNASC</th>\n",
       "      <th>IDADEMAE</th>\n",
       "      <th>ESTCIVMAE</th>\n",
       "      <th>ESCMAE</th>\n",
       "      <th>CODOCUPMAE</th>\n",
       "      <th>QTDFILVIVO</th>\n",
       "      <th>QTDFILMORT</th>\n",
       "      <th>...</th>\n",
       "      <th>KOTELCHUCK</th>\n",
       "      <th>CONTADOR</th>\n",
       "      <th>munResStatus</th>\n",
       "      <th>munResTipo</th>\n",
       "      <th>munResNome</th>\n",
       "      <th>munResUf</th>\n",
       "      <th>munResLat</th>\n",
       "      <th>munResLon</th>\n",
       "      <th>munResAlt</th>\n",
       "      <th>munResArea</th>\n",
       "    </tr>\n",
       "  </thead>\n",
       "  <tbody>\n",
       "    <tr>\n",
       "      <th>0</th>\n",
       "      <td>1</td>\n",
       "      <td>2679477.0</td>\n",
       "      <td>110001</td>\n",
       "      <td>1</td>\n",
       "      <td>19</td>\n",
       "      <td>5.0</td>\n",
       "      <td>8 a 11 anos</td>\n",
       "      <td>NaN</td>\n",
       "      <td>0.0</td>\n",
       "      <td>0.0</td>\n",
       "      <td>...</td>\n",
       "      <td>5</td>\n",
       "      <td>1</td>\n",
       "      <td>ATIVO</td>\n",
       "      <td>MUNIC</td>\n",
       "      <td>Alta Floresta D'Oeste</td>\n",
       "      <td>Rondônia</td>\n",
       "      <td>-11.93554</td>\n",
       "      <td>-61.99982</td>\n",
       "      <td>338.0</td>\n",
       "      <td>7067.025</td>\n",
       "    </tr>\n",
       "    <tr>\n",
       "      <th>1</th>\n",
       "      <td>1</td>\n",
       "      <td>2679477.0</td>\n",
       "      <td>110001</td>\n",
       "      <td>1</td>\n",
       "      <td>29</td>\n",
       "      <td>2.0</td>\n",
       "      <td>8 a 11 anos</td>\n",
       "      <td>999992.0</td>\n",
       "      <td>1.0</td>\n",
       "      <td>0.0</td>\n",
       "      <td>...</td>\n",
       "      <td>5</td>\n",
       "      <td>2</td>\n",
       "      <td>ATIVO</td>\n",
       "      <td>MUNIC</td>\n",
       "      <td>Alta Floresta D'Oeste</td>\n",
       "      <td>Rondônia</td>\n",
       "      <td>-11.93554</td>\n",
       "      <td>-61.99982</td>\n",
       "      <td>338.0</td>\n",
       "      <td>7067.025</td>\n",
       "    </tr>\n",
       "    <tr>\n",
       "      <th>2</th>\n",
       "      <td>1</td>\n",
       "      <td>2679477.0</td>\n",
       "      <td>110001</td>\n",
       "      <td>1</td>\n",
       "      <td>37</td>\n",
       "      <td>9.0</td>\n",
       "      <td>8 a 11 anos</td>\n",
       "      <td>513205.0</td>\n",
       "      <td>2.0</td>\n",
       "      <td>0.0</td>\n",
       "      <td>...</td>\n",
       "      <td>5</td>\n",
       "      <td>3</td>\n",
       "      <td>ATIVO</td>\n",
       "      <td>MUNIC</td>\n",
       "      <td>Alta Floresta D'Oeste</td>\n",
       "      <td>Rondônia</td>\n",
       "      <td>-11.93554</td>\n",
       "      <td>-61.99982</td>\n",
       "      <td>338.0</td>\n",
       "      <td>7067.025</td>\n",
       "    </tr>\n",
       "    <tr>\n",
       "      <th>3</th>\n",
       "      <td>1</td>\n",
       "      <td>2516500.0</td>\n",
       "      <td>110001</td>\n",
       "      <td>1</td>\n",
       "      <td>30</td>\n",
       "      <td>5.0</td>\n",
       "      <td>12 anos ou mais</td>\n",
       "      <td>231205.0</td>\n",
       "      <td>0.0</td>\n",
       "      <td>0.0</td>\n",
       "      <td>...</td>\n",
       "      <td>4</td>\n",
       "      <td>4</td>\n",
       "      <td>ATIVO</td>\n",
       "      <td>MUNIC</td>\n",
       "      <td>Alto Alegre dos Parecis</td>\n",
       "      <td>Rondônia</td>\n",
       "      <td>-12.13178</td>\n",
       "      <td>-61.85308</td>\n",
       "      <td>397.0</td>\n",
       "      <td>3958.273</td>\n",
       "    </tr>\n",
       "    <tr>\n",
       "      <th>4</th>\n",
       "      <td>1</td>\n",
       "      <td>2516500.0</td>\n",
       "      <td>110001</td>\n",
       "      <td>1</td>\n",
       "      <td>30</td>\n",
       "      <td>2.0</td>\n",
       "      <td>8 a 11 anos</td>\n",
       "      <td>999992.0</td>\n",
       "      <td>1.0</td>\n",
       "      <td>0.0</td>\n",
       "      <td>...</td>\n",
       "      <td>5</td>\n",
       "      <td>5</td>\n",
       "      <td>ATIVO</td>\n",
       "      <td>MUNIC</td>\n",
       "      <td>Alta Floresta D'Oeste</td>\n",
       "      <td>Rondônia</td>\n",
       "      <td>-11.93554</td>\n",
       "      <td>-61.99982</td>\n",
       "      <td>338.0</td>\n",
       "      <td>7067.025</td>\n",
       "    </tr>\n",
       "  </tbody>\n",
       "</table>\n",
       "<p>5 rows × 69 columns</p>\n",
       "</div>"
      ],
      "text/plain": [
       "   ORIGEM   CODESTAB  CODMUNNASC  LOCNASC  IDADEMAE  ESTCIVMAE   \n",
       "0       1  2679477.0      110001        1        19        5.0  \\\n",
       "1       1  2679477.0      110001        1        29        2.0   \n",
       "2       1  2679477.0      110001        1        37        9.0   \n",
       "3       1  2516500.0      110001        1        30        5.0   \n",
       "4       1  2516500.0      110001        1        30        2.0   \n",
       "\n",
       "            ESCMAE  CODOCUPMAE  QTDFILVIVO  QTDFILMORT  ...  KOTELCHUCK   \n",
       "0      8 a 11 anos         NaN         0.0         0.0  ...           5  \\\n",
       "1      8 a 11 anos    999992.0         1.0         0.0  ...           5   \n",
       "2      8 a 11 anos    513205.0         2.0         0.0  ...           5   \n",
       "3  12 anos ou mais    231205.0         0.0         0.0  ...           4   \n",
       "4      8 a 11 anos    999992.0         1.0         0.0  ...           5   \n",
       "\n",
       "  CONTADOR munResStatus munResTipo               munResNome  munResUf   \n",
       "0        1        ATIVO      MUNIC    Alta Floresta D'Oeste  Rondônia  \\\n",
       "1        2        ATIVO      MUNIC    Alta Floresta D'Oeste  Rondônia   \n",
       "2        3        ATIVO      MUNIC    Alta Floresta D'Oeste  Rondônia   \n",
       "3        4        ATIVO      MUNIC  Alto Alegre dos Parecis  Rondônia   \n",
       "4        5        ATIVO      MUNIC    Alta Floresta D'Oeste  Rondônia   \n",
       "\n",
       "   munResLat munResLon  munResAlt  munResArea  \n",
       "0  -11.93554 -61.99982      338.0    7067.025  \n",
       "1  -11.93554 -61.99982      338.0    7067.025  \n",
       "2  -11.93554 -61.99982      338.0    7067.025  \n",
       "3  -12.13178 -61.85308      397.0    3958.273  \n",
       "4  -11.93554 -61.99982      338.0    7067.025  \n",
       "\n",
       "[5 rows x 69 columns]"
      ]
     },
     "execution_count": 3,
     "metadata": {},
     "output_type": "execute_result"
    }
   ],
   "source": [
    "sinasc_raw = pd.read_csv('SINASC_RO_2019.csv')\n",
    "sinasc_raw.head()"
   ]
  },
  {
   "cell_type": "code",
   "execution_count": null,
   "metadata": {},
   "outputs": [],
   "source": []
  },
  {
   "cell_type": "code",
   "execution_count": null,
   "metadata": {},
   "outputs": [],
   "source": []
  },
  {
   "cell_type": "code",
   "execution_count": null,
   "metadata": {},
   "outputs": [],
   "source": []
  },
  {
   "attachments": {},
   "cell_type": "markdown",
   "metadata": {},
   "source": [
    "# Tarefa 2"
   ]
  },
  {
   "attachments": {},
   "cell_type": "markdown",
   "metadata": {},
   "source": [
    "### 1. Crie 2 faixas de Latitude do município (munResLat) sendo uma acima e outra abaixo de -10.5 e aplique o groupby usando essas faixas como chave e realize operações de soma, media, minimo, maximo, mediana, desvio padrao, variancia pra pelo menos 2 variáveis numéricas ainda não utilizadas"
   ]
  },
  {
   "cell_type": "code",
   "execution_count": null,
   "metadata": {},
   "outputs": [],
   "source": []
  },
  {
   "cell_type": "code",
   "execution_count": 4,
   "metadata": {},
   "outputs": [
    {
     "name": "stdout",
     "output_type": "stream",
     "text": [
      "Resultados das Operações Estatísticas:\n",
      "                     PESO                                               \n",
      "                      sum         mean  min   max  median         std   \n",
      "FaixaLat                                                                \n",
      "Abaixo de -10.5  42098594  3240.098053  258  5985  3270.0  531.815114  \\\n",
      "Acima de -10.5   45555148  3246.055864  295  5190  3275.0  556.487709   \n",
      "\n",
      "                               IDADEMAE                                       \n",
      "                           var      sum       mean min max median       std   \n",
      "FaixaLat                                                                      \n",
      "Abaixo de -10.5  282827.315354   340143  26.178943  12  53   26.0  6.320385  \\\n",
      "Acima de -10.5   309678.570242   365094  26.014964  11  52   25.0  6.447663   \n",
      "\n",
      "                            \n",
      "                       var  \n",
      "FaixaLat                    \n",
      "Abaixo de -10.5  39.947272  \n",
      "Acima de -10.5   41.572355  \n"
     ]
    }
   ],
   "source": [
    "import pandas as pd\n",
    "\n",
    "sinasc_raw = pd.read_csv('SINASC_RO_2019.csv')\n",
    "\n",
    "# Create the 'FaixaLat' column based on latitude\n",
    "sinasc_raw['FaixaLat'] = pd.cut(sinasc_raw['munResLat'], bins=[-float('inf'), -10.5, float('inf')], labels=['Abaixo de -10.5', 'Acima de -10.5'])\n",
    "\n",
    "# Apply groupby() using the latitude ranges as the key\n",
    "grouped = sinasc_raw.groupby('FaixaLat')\n",
    "\n",
    "# Select two numeric variables for analysis\n",
    "variavel1 = 'PESO'\n",
    "variavel2 = 'IDADEMAE'\n",
    "\n",
    "# Perform statistical operations on the selected variables\n",
    "resultado = grouped[[variavel1, variavel2]].agg(['sum', 'mean', 'min', 'max', 'median', 'std', 'var'])\n",
    "\n",
    "print(\"Resultados das Operações Estatísticas:\")\n",
    "print(resultado)\n"
   ]
  },
  {
   "attachments": {},
   "cell_type": "markdown",
   "metadata": {},
   "source": [
    "### 2. Crie 2 faixas da área dos municípios (munResArea) sendo uma acima e outra abaixo de 3000 e aplique o groupby usando essas faixas como chave e realize operações de soma, media, minimo, maximo, mediana, desvio padrao, variancia pra pelo menos 2 variáveis numéricas ainda não utilizadas\n"
   ]
  },
  {
   "cell_type": "code",
   "execution_count": 5,
   "metadata": {},
   "outputs": [
    {
     "name": "stdout",
     "output_type": "stream",
     "text": [
      "Resultados das Operações Estatísticas:\n",
      "                    PESO                                               \n",
      "                     sum         mean  min   max  median         std   \n",
      "FaixaArea                                                              \n",
      "Abaixo de 3000  16796616  3218.359073  258  5720  3245.0  531.583103  \\\n",
      "Acima de 3000   70857126  3249.134538  292  5985  3280.0  547.716582   \n",
      "\n",
      "                               IDADEPAI                                 \n",
      "                          var       sum       mean   min   max median   \n",
      "FaixaArea                                                               \n",
      "Abaixo de 3000  282580.595074   78074.0  31.092792  16.0  69.0   30.0  \\\n",
      "Acima de 3000   299993.453720  158424.0  31.094014  15.0  86.0   30.0   \n",
      "\n",
      "                                     \n",
      "                     std        var  \n",
      "FaixaArea                            \n",
      "Abaixo de 3000  7.675474  58.912900  \n",
      "Acima de 3000   7.818364  61.126809  \n"
     ]
    }
   ],
   "source": [
    "import pandas as pd\n",
    "\n",
    "sinasc_raw = pd.read_csv('SINASC_RO_2019.csv')\n",
    "\n",
    "# Create the 'FaixaArea' column based on the area\n",
    "sinasc_raw['FaixaArea'] = pd.cut(sinasc_raw['munResArea'], bins=[-float('inf'), 3000, float('inf')], labels=['Abaixo de 3000', 'Acima de 3000'])\n",
    "\n",
    "# Apply groupby() using the area ranges as the key\n",
    "grouped = sinasc_raw.groupby('FaixaArea')\n",
    "\n",
    "# Select two numeric variables for analysis\n",
    "variavel1 = 'PESO'\n",
    "variavel2 = 'IDADEPAI'\n",
    "\n",
    "# Perform statistical operations on the selected variables\n",
    "resultado = grouped[[variavel1, variavel2]].agg(['sum', 'mean', 'min', 'max', 'median', 'std', 'var'])\n",
    "\n",
    "print(\"Resultados das Operações Estatísticas:\")\n",
    "print(resultado)\n"
   ]
  },
  {
   "attachments": {},
   "cell_type": "markdown",
   "metadata": {},
   "source": [
    "### 3. Determine faixas na variável munResAlt e aplique o groupby usando essas faixas como chave e realize operações de soma, media, minimo, maximo, mediana, desvio padrao, variancia pra pelo menos 2 variáveis numéricas ainda não utilizadas"
   ]
  },
  {
   "cell_type": "code",
   "execution_count": 6,
   "metadata": {},
   "outputs": [
    {
     "name": "stdout",
     "output_type": "stream",
     "text": [
      "Resultados das Operações Estatísticas:\n",
      "              PESO                                                   \n",
      "               sum         mean    min     max  median         std   \n",
      "FaixaAlt                                                             \n",
      "Baixa     82517644  3244.000629  258.0  5985.0  3270.0  544.151570  \\\n",
      "Média      5136098  3230.250314  425.0  4920.0  3272.0  554.485749   \n",
      "Alta             0          NaN    NaN     NaN     NaN         NaN   \n",
      "\n",
      "                        IDADEMAE                                           \n",
      "                    var      sum       mean   min   max median       std   \n",
      "FaixaAlt                                                                   \n",
      "Baixa     296100.931121   663207  26.072532  11.0  53.0   25.0  6.391458  \\\n",
      "Média     307454.445799    42030  26.433962  14.0  46.0   26.0  6.310937   \n",
      "Alta                NaN        0        NaN   NaN   NaN    NaN       NaN   \n",
      "\n",
      "                     \n",
      "                var  \n",
      "FaixaAlt             \n",
      "Baixa     40.850730  \n",
      "Média     39.827921  \n",
      "Alta            NaN  \n"
     ]
    }
   ],
   "source": [
    "import pandas as pd\n",
    "\n",
    "sinasc_raw = pd.read_csv('SINASC_RO_2019.csv')\n",
    "\n",
    "# Create the 'FaixaAlt' column based on the altitude\n",
    "sinasc_raw['FaixaAlt'] = pd.cut(sinasc_raw['munResAlt'], bins=[-float('inf'), 500, 1000, float('inf')], labels=['Baixa', 'Média', 'Alta'])\n",
    "\n",
    "# Apply groupby() using the altitude ranges as the key\n",
    "grouped = sinasc_raw.groupby('FaixaAlt')\n",
    "\n",
    "# Select two numeric variables for analysis\n",
    "variavel1 = 'PESO'\n",
    "variavel2 = 'IDADEMAE'\n",
    "\n",
    "# Perform statistical operations on the selected variables\n",
    "resultado = grouped[[variavel1, variavel2]].agg(['sum', 'mean', 'min', 'max', 'median', 'std', 'var'])\n",
    "\n",
    "print(\"Resultados das Operações Estatísticas:\")\n",
    "print(resultado)\n"
   ]
  },
  {
   "attachments": {},
   "cell_type": "markdown",
   "metadata": {},
   "source": [
    "### 4. Plote no mesmo grafico ao longo do tempo a idade media das mulheres de cada regiao imediatas de rondonia\n",
    "https://pt.wikipedia.org/wiki/Lista_de_regi%C3%B5es_geogr%C3%A1ficas_intermedi%C3%A1rias_e_imediatas_de_Rond%C3%B4nia"
   ]
  },
  {
   "cell_type": "code",
   "execution_count": 46,
   "metadata": {},
   "outputs": [],
   "source": [
    "dados_ro = pd.read_csv('dados_extras_ro.csv', sep=';', encoding='latin_1')\n",
    "regioes_map = dict(zip(dados_ro['municipio'], dados_ro['regiao']))\n"
   ]
  },
  {
   "cell_type": "code",
   "execution_count": 11,
   "metadata": {},
   "outputs": [
    {
     "data": {
      "text/plain": [
       "Text(0.5, 0, 'Mês')"
      ]
     },
     "execution_count": 11,
     "metadata": {},
     "output_type": "execute_result"
    },
    {
     "data": {
      "image/png": "[encoded data removed]",
      "text/plain": [
       "<Figure size 1200x800 with 1 Axes>"
      ]
     },
     "metadata": {},
     "output_type": "display_data"
    }
   ],
   "source": [
    "import numpy as np\n",
    "import pandas as pd\n",
    "import seaborn as sns\n",
    "import matplotlib.pyplot as plt\n",
    " \n",
    "sinasc_2 = sinasc_raw.copy()[['munResNome', 'IDADEMAE', 'IDADEPAI', 'DTNASC']]\n",
    "\n",
    "sinasc_2['DTNASC'] =  pd.to_datetime(sinasc_2['DTNASC'])\n",
    "\n",
    "sinasc_2['MES'] = sinasc_2['DTNASC'].dt.month\n",
    "\n",
    "\n",
    "\n",
    "imediatas = {\n",
    "\n",
    "    \"Alto Alegre dos Parecis\": \"Cacoal\",\n",
    "\n",
    "    \"Novo Horizonte do Oeste\": \"Cacoal\", \n",
    "\n",
    "    \"Município ignorado - RO\": np.nan\n",
    "\n",
    "}\n",
    "\n",
    "\n",
    "sinasc_2['IMEDIATA'] = sinasc_2['munResNome'].apply(lambda x: imediatas.get(x, 'CidadePadrao'))\n",
    "\n",
    "\n",
    "sinasc_2.groupby('IMEDIATA')[['IDADEMAE', 'IDADEPAI']].agg('mean')\n",
    "\n",
    "\n",
    "fig = plt.figure(figsize=(12,8))\n",
    "\n",
    "fig = sns.lineplot(data=sinasc_2, x = 'MES', y = 'IDADEMAE', hue = 'IMEDIATA')\n",
    "\n",
    "fig.set_title('Distribuição de Idade das Mães ao Longo do Tempo por Cidades Imediatas')\n",
    "\n",
    "fig.set_ylabel('Idade da Mãe')\n",
    "\n",
    "fig.set_xlabel('Mês')\n",
    "\n"
   ]
  },
  {
   "attachments": {},
   "cell_type": "markdown",
   "metadata": {},
   "source": [
    "### 5. Utilize a tabela do link abaixo e crie faixas utilizando o mapping e gere agrupamentos utilizando essas faixas como chave\n"
   ]
  },
  {
   "attachments": {},
   "cell_type": "markdown",
   "metadata": {},
   "source": [
    "### 5.1 IDH\n",
    "A - https://pt.wikipedia.org/wiki/Lista_de_munic%C3%ADpios_de_Rond%C3%B4nia_por_IDH-M\n"
   ]
  },
  {
   "cell_type": "code",
   "execution_count": 68,
   "metadata": {},
   "outputs": [
    {
     "name": "stdout",
     "output_type": "stream",
     "text": [
      "                    municipio    idh   Faixa_IDHM\n",
      "0       Alta Floresta D'Oeste  0.641  Médio-Baixo\n",
      "1     Alto Alegre dos Parecis  0.592        Baixo\n",
      "2                Alto Paraíso  0.625  Médio-Baixo\n",
      "3            Alvorada D'Oeste  0.643  Médio-Baixo\n",
      "4                   Ariquemes  0.702   Médio-Alto\n",
      "5                     Buritis  0.616  Médio-Baixo\n",
      "6                      Cabixi  0.650  Médio-Baixo\n",
      "7                 Cacaulândia  0.646  Médio-Baixo\n",
      "8                      Cacoal  0.718   Médio-Alto\n",
      "9      Campo Novo de Rondônia  0.593        Baixo\n",
      "10         Candeias do Jamari  0.649  Médio-Baixo\n",
      "11               Castanheiras  0.658  Médio-Baixo\n",
      "12                 Cerejeiras  0.692  Médio-Baixo\n",
      "13                Chupinguaia  0.652  Médio-Baixo\n",
      "14          Colorado do Oeste  0.685  Médio-Baixo\n",
      "15                 Corumbiara  0.613  Médio-Baixo\n",
      "16              Costa Marques  0.611  Médio-Baixo\n",
      "17                    Cujubim  0.612  Médio-Baixo\n",
      "18            Espigão D'Oeste  0.672  Médio-Baixo\n",
      "19  Governador Jorge Teixeira  0.596        Baixo\n",
      "20              Guajará-Mirim  0.657  Médio-Baixo\n",
      "21            Itapuã do Oeste  0.614  Médio-Baixo\n",
      "22                       Jaru  0.689  Médio-Baixo\n",
      "23                  Ji-Paraná  0.714   Médio-Alto\n",
      "24         Machadinho D'Oeste  0.596        Baixo\n",
      "25         Ministro Andreazza  0.638  Médio-Baixo\n",
      "26           Mirante da Serra  0.643  Médio-Baixo\n",
      "27                Monte Negro  0.607  Médio-Baixo\n",
      "28   Nova Brasilândia D'Oeste  0.643  Médio-Baixo\n",
      "29                Nova Mamoré  0.587        Baixo\n",
      "30                 Nova União  0.587        Baixo\n",
      "31    Novo Horizonte do Oeste  0.634  Médio-Baixo\n",
      "32        Ouro Preto do Oeste  0.682  Médio-Baixo\n",
      "33                    Parecis  0.617  Médio-Baixo\n",
      "34              Pimenta Bueno  0.710   Médio-Alto\n",
      "35       Pimenteiras do Oeste  0.665  Médio-Baixo\n",
      "36                Porto Velho  0.736   Médio-Alto\n",
      "37          Presidente Médici  0.664  Médio-Baixo\n",
      "38      Primavera de Rondônia  0.641  Médio-Baixo\n",
      "39                 Rio Crespo  0.643  Médio-Baixo\n",
      "40             Rolim de Moura  0.700  Médio-Baixo\n",
      "41        Santa Luzia D'Oeste  0.670  Médio-Baixo\n",
      "42         São Felipe D'Oeste  0.649  Médio-Baixo\n",
      "43   São Francisco do Guaporé  0.611  Médio-Baixo\n",
      "44      São Miguel do Guaporé  0.646  Médio-Baixo\n",
      "45               Seringueiras  0.598        Baixo\n",
      "46              Teixeirópolis  0.643  Médio-Baixo\n",
      "47                  Theobroma  0.589        Baixo\n",
      "48                      Urupá  0.609  Médio-Baixo\n",
      "49              Vale do Anari  0.584        Baixo\n",
      "50            Vale do Paraíso  0.627  Médio-Baixo\n",
      "51                    Vilhena  0.731   Médio-Alto\n"
     ]
    }
   ],
   "source": [
    "import pandas as pd\n",
    "\n",
    "dados_csv = pd.read_csv('dados_extras_ro.csv', delimiter=';', encoding='latin-1')\n",
    "dados_municipios = pd.DataFrame(dados_csv, columns=['municipio', 'idh'])\n",
    "\n",
    "# Definindo os limites das faixas (bins) para o IDHM\n",
    "bins = [0.0, 0.6, 0.7, 0.8, 1.0]  # Aqui, estou dividindo os municípios em 4 faixas\n",
    "\n",
    "# Criando as labels para as faixas\n",
    "labels = ['Baixo', 'Médio-Baixo', 'Médio-Alto', 'Alto']\n",
    "\n",
    "# Criando uma nova coluna 'Faixa_IDHM' no DataFrame com base nas faixas definidas\n",
    "dados_municipios['Faixa_IDHM'] = pd.cut(dados_municipios['idh'], bins=bins, labels=labels, include_lowest=True)\n",
    "\n",
    "print(dados_municipios)"
   ]
  },
  {
   "attachments": {},
   "cell_type": "markdown",
   "metadata": {},
   "source": [
    "### 5.2 IFDM \n",
    "B - https://pt.wikipedia.org/wiki/Lista_de_munic%C3%ADpios_de_Rond%C3%B4nia_por_IFDM\n"
   ]
  },
  {
   "cell_type": "code",
   "execution_count": 61,
   "metadata": {},
   "outputs": [
    {
     "name": "stdout",
     "output_type": "stream",
     "text": [
      "                    municipio    ifdm                  Faixa_IFDM\n",
      "0       Alta Floresta D'Oeste  0.6337        Desenvolvimento Alto\n",
      "1     Alto Alegre dos Parecis  0.5046       Desenvolvimento Médio\n",
      "2                Alto Paraíso  0.5735       Desenvolvimento Médio\n",
      "3            Alvorada D'Oeste  0.5919       Desenvolvimento Médio\n",
      "4                   Ariquemes  0.7746  Desenvolvimento Muito Alto\n",
      "5                     Buritis  0.6199        Desenvolvimento Alto\n",
      "6                      Cabixi  0.5887       Desenvolvimento Médio\n",
      "7                 Cacaulândia  0.5721       Desenvolvimento Médio\n",
      "8                      Cacoal  0.7111  Desenvolvimento Muito Alto\n",
      "9      Campo Novo de Rondônia  0.5272       Desenvolvimento Médio\n",
      "10         Candeias do Jamari  0.6199        Desenvolvimento Alto\n",
      "11               Castanheiras  0.5430       Desenvolvimento Médio\n",
      "12                 Cerejeiras  0.6137        Desenvolvimento Alto\n",
      "13                Chupinguaia  0.6766        Desenvolvimento Alto\n",
      "14          Colorado do Oeste  0.6473        Desenvolvimento Alto\n",
      "15                 Corumbiara  0.5759       Desenvolvimento Médio\n",
      "16              Costa Marques  0.5626       Desenvolvimento Médio\n",
      "17                    Cujubim  0.5055       Desenvolvimento Médio\n",
      "18            Espigão D'Oeste  0.5973       Desenvolvimento Médio\n",
      "19  Governador Jorge Teixeira  0.4562       Desenvolvimento Médio\n",
      "20              Guajará-Mirim  0.5541       Desenvolvimento Médio\n",
      "21            Itapuã do Oeste  0.5903       Desenvolvimento Médio\n",
      "22                       Jaru  0.6450        Desenvolvimento Alto\n",
      "23                  Ji-Paraná  0.7117  Desenvolvimento Muito Alto\n",
      "24         Machadinho D'Oeste  0.5322       Desenvolvimento Médio\n",
      "25         Ministro Andreazza  0.5657       Desenvolvimento Médio\n",
      "26           Mirante da Serra  0.5519       Desenvolvimento Médio\n",
      "27                Monte Negro  0.6016        Desenvolvimento Alto\n",
      "28   Nova Brasilândia D'Oeste  0.5857       Desenvolvimento Médio\n",
      "29                Nova Mamoré  0.5084       Desenvolvimento Médio\n",
      "30                 Nova União  0.5571       Desenvolvimento Médio\n",
      "31    Novo Horizonte do Oeste  0.5858       Desenvolvimento Médio\n",
      "32        Ouro Preto do Oeste  0.6261        Desenvolvimento Alto\n",
      "33                    Parecis  0.5502       Desenvolvimento Médio\n",
      "34              Pimenta Bueno  0.7383  Desenvolvimento Muito Alto\n",
      "35       Pimenteiras do Oeste  0.6501        Desenvolvimento Alto\n",
      "36                Porto Velho  0.7257  Desenvolvimento Muito Alto\n",
      "37          Presidente Médici  0.6140        Desenvolvimento Alto\n",
      "38      Primavera de Rondônia  0.6384        Desenvolvimento Alto\n",
      "39                 Rio Crespo  0.6430        Desenvolvimento Alto\n",
      "40             Rolim de Moura  0.6785        Desenvolvimento Alto\n",
      "41        Santa Luzia D'Oeste  0.6850        Desenvolvimento Alto\n",
      "42         São Felipe D'Oeste  0.6153        Desenvolvimento Alto\n",
      "43   São Francisco do Guaporé  0.6214        Desenvolvimento Alto\n",
      "44      São Miguel do Guaporé  0.6699        Desenvolvimento Alto\n",
      "45               Seringueiras  0.5922       Desenvolvimento Médio\n",
      "46              Teixeirópolis  0.6500        Desenvolvimento Alto\n",
      "47                  Theobroma  0.5405       Desenvolvimento Médio\n",
      "48                      Urupá  0.6006        Desenvolvimento Alto\n",
      "49              Vale do Anari  0.5710       Desenvolvimento Médio\n",
      "50            Vale do Paraíso  0.5818       Desenvolvimento Médio\n",
      "51                    Vilhena  0.7465  Desenvolvimento Muito Alto\n"
     ]
    }
   ],
   "source": [
    "import pandas as pd\n",
    "\n",
    "dados_csv = pd.read_csv('dados_extras_ro.csv', delimiter=';', encoding='latin-1')\n",
    "dados_municipios = pd.DataFrame(dados_csv, columns=['municipio', 'ifdm'])\n",
    "\n",
    "faixas_mapping = {\n",
    "    (0.0, 0.4): 'Baixo',\n",
    "    (0.4, 0.6): 'Médio',\n",
    "    (0.6, 0.8): 'Alto',\n",
    "    (0.7, 0.8): 'Muito Alto',\n",
    "}\n",
    "bins = [0.0, 0.4, 0.6, 0.7, 0.8]\n",
    "\n",
    "labels = ['Desenvolvimento Baixo', 'Desenvolvimento Médio', 'Desenvolvimento Alto','Desenvolvimento Muito Alto']\n",
    "\n",
    "# Obtendo apenas os limites inferiores dos bins\n",
    "bins = [bin[0] for bin in faixas_mapping.keys()]\n",
    "# Adicionando o limite superior final\n",
    "bins.append(0.8)\n",
    "\n",
    "# Criando uma nova coluna 'Faixa_IFDM' no DataFrame com base nas faixas definidas\n",
    "dados_municipios['Faixa_IFDM'] = pd.cut(dados_municipios['ifdm'], bins=bins, labels=labels, include_lowest=True)\n",
    "\n",
    "print(dados_municipios)"
   ]
  },
  {
   "attachments": {},
   "cell_type": "markdown",
   "metadata": {},
   "source": [
    "### 5.3 PIB\n",
    "C - https://pt.wikipedia.org/wiki/Lista_de_munic%C3%ADpios_de_Rond%C3%B4nia_por_PIB\n"
   ]
  },
  {
   "cell_type": "code",
   "execution_count": 67,
   "metadata": {},
   "outputs": [
    {
     "name": "stdout",
     "output_type": "stream",
     "text": [
      "                    municipio       pib    Faixa_pib\n",
      "0       Alta Floresta D'Oeste    496000  Médio-Baixo\n",
      "1     Alto Alegre dos Parecis    213410        Baixo\n",
      "2                Alto Paraíso    358000  Médio-Baixo\n",
      "3            Alvorada D'Oeste    204098        Baixo\n",
      "4                   Ariquemes   2579830         Alto\n",
      "5                     Buritis    726000   Médio-Alto\n",
      "6                      Cabixi    113031        Baixo\n",
      "7                 Cacaulândia    116635        Baixo\n",
      "8                      Cacoal   2261644         Alto\n",
      "9      Campo Novo de Rondônia    208821        Baixo\n",
      "10         Candeias do Jamari    548000   Médio-Alto\n",
      "11               Castanheiras     59779        Baixo\n",
      "12                 Cerejeiras    507000   Médio-Alto\n",
      "13                Chupinguaia    190331        Baixo\n",
      "14          Colorado do Oeste    335000  Médio-Baixo\n",
      "15                 Corumbiara    188218        Baixo\n",
      "16              Costa Marques    171878        Baixo\n",
      "17                    Cujubim    385000  Médio-Baixo\n",
      "18            Espigão D'Oeste    625000   Médio-Alto\n",
      "19  Governador Jorge Teixeira    148027        Baixo\n",
      "20              Guajará-Mirim    893000   Médio-Alto\n",
      "21            Itapuã do Oeste    129351        Baixo\n",
      "22                       Jaru   1500890         Alto\n",
      "23                  Ji-Paraná   3783972         Alto\n",
      "24         Machadinho D'Oeste    633000   Médio-Alto\n",
      "25         Ministro Andreazza    174633        Baixo\n",
      "26           Mirante da Serra    163955        Baixo\n",
      "27                Monte Negro    219152        Baixo\n",
      "28   Nova Brasilândia D'Oeste    360000  Médio-Baixo\n",
      "29                Nova Mamoré    529000   Médio-Alto\n",
      "30                 Nova União     92346        Baixo\n",
      "31    Novo Horizonte do Oeste    129399        Baixo\n",
      "32        Ouro Preto do Oeste    834000   Médio-Alto\n",
      "33                    Parecis     80759        Baixo\n",
      "34              Pimenta Bueno   1164877         Alto\n",
      "35       Pimenteiras do Oeste     76756        Baixo\n",
      "36                Porto Velho  17912070         Alto\n",
      "37          Presidente Médici    428000  Médio-Baixo\n",
      "38      Primavera de Rondônia     52908        Baixo\n",
      "39                 Rio Crespo     76854        Baixo\n",
      "40             Rolim de Moura   1283434         Alto\n",
      "41        Santa Luzia D'Oeste    135934        Baixo\n",
      "42         São Felipe D'Oeste     72084        Baixo\n",
      "43   São Francisco do Guaporé    353000  Médio-Baixo\n",
      "44      São Miguel do Guaporé    616000   Médio-Alto\n",
      "45               Seringueiras    169429        Baixo\n",
      "46              Teixeirópolis     72089        Baixo\n",
      "47                  Theobroma    140601        Baixo\n",
      "48                      Urupá    172143        Baixo\n",
      "49              Vale do Anari    105208        Baixo\n",
      "50            Vale do Paraíso    116742        Baixo\n",
      "51                    Vilhena   2831175         Alto\n"
     ]
    }
   ],
   "source": [
    "import pandas as pd\n",
    "\n",
    "dados_csv = pd.read_csv('dados_extras_ro.csv', delimiter=';', encoding='latin-1')\n",
    "dados_municipios = pd.DataFrame(dados_csv, columns=['municipio', 'pib'])\n",
    "\n",
    "\n",
    "# Definindo os limites das faixas (bins) para o PIB\n",
    "bins = [0.0, 300000, 500000, 1000000, float('inf')]  # Definimos os limites das faixas\n",
    "\n",
    "# Criando as labels para as faixas\n",
    "labels = ['Baixo', 'Médio-Baixo', 'Médio-Alto', 'Alto']\n",
    "\n",
    "# Criando uma nova coluna 'Faixa_PIB' no DataFrame com base nas faixas definidas\n",
    "dados_municipios['Faixa_pib'] = pd.cut(dados_municipios['pib'], bins=bins, labels=labels, include_lowest=True)\n",
    "\n",
    "print(dados_municipios)\n"
   ]
  },
  {
   "attachments": {},
   "cell_type": "markdown",
   "metadata": {},
   "source": [
    "### Analise as respostas encontradas, tire algum insight delas, conte pra gente algo encontrado nos dados."
   ]
  },
  {
   "cell_type": "code",
   "execution_count": 69,
   "metadata": {},
   "outputs": [
    {
     "name": "stdout",
     "output_type": "stream",
     "text": [
      "                                  pib    ifdm    idh\n",
      "municipio                                           \n",
      "Alta Floresta D'Oeste        496000.0  0.6337  0.641\n",
      "Alto Alegre dos Parecis      213410.0  0.5046  0.592\n",
      "Alto Paraíso                 358000.0  0.5735  0.625\n",
      "Alvorada D'Oeste             204098.0  0.5919  0.643\n",
      "Ariquemes                   2579830.0  0.7746  0.702\n",
      "Buritis                      726000.0  0.6199  0.616\n",
      "Cabixi                       113031.0  0.5887  0.650\n",
      "Cacaulândia                  116635.0  0.5721  0.646\n",
      "Cacoal                      2261644.0  0.7111  0.718\n",
      "Campo Novo de Rondônia       208821.0  0.5272  0.593\n",
      "Candeias do Jamari           548000.0  0.6199  0.649\n",
      "Castanheiras                  59779.0  0.5430  0.658\n",
      "Cerejeiras                   507000.0  0.6137  0.692\n",
      "Chupinguaia                  190331.0  0.6766  0.652\n",
      "Colorado do Oeste            335000.0  0.6473  0.685\n",
      "Corumbiara                   188218.0  0.5759  0.613\n",
      "Costa Marques                171878.0  0.5626  0.611\n",
      "Cujubim                      385000.0  0.5055  0.612\n",
      "Espigão D'Oeste              625000.0  0.5973  0.672\n",
      "Governador Jorge Teixeira    148027.0  0.4562  0.596\n",
      "Guajará-Mirim                893000.0  0.5541  0.657\n",
      "Itapuã do Oeste              129351.0  0.5903  0.614\n",
      "Jaru                        1500890.0  0.6450  0.689\n",
      "Ji-Paraná                   3783972.0  0.7117  0.714\n",
      "Machadinho D'Oeste           633000.0  0.5322  0.596\n",
      "Ministro Andreazza           174633.0  0.5657  0.638\n",
      "Mirante da Serra             163955.0  0.5519  0.643\n",
      "Monte Negro                  219152.0  0.6016  0.607\n",
      "Nova Brasilândia D'Oeste     360000.0  0.5857  0.643\n",
      "Nova Mamoré                  529000.0  0.5084  0.587\n",
      "Nova União                    92346.0  0.5571  0.587\n",
      "Novo Horizonte do Oeste      129399.0  0.5858  0.634\n",
      "Ouro Preto do Oeste          834000.0  0.6261  0.682\n",
      "Parecis                       80759.0  0.5502  0.617\n",
      "Pimenta Bueno               1164877.0  0.7383  0.710\n",
      "Pimenteiras do Oeste          76756.0  0.6501  0.665\n",
      "Porto Velho                17912070.0  0.7257  0.736\n",
      "Presidente Médici            428000.0  0.6140  0.664\n",
      "Primavera de Rondônia         52908.0  0.6384  0.641\n",
      "Rio Crespo                    76854.0  0.6430  0.643\n",
      "Rolim de Moura              1283434.0  0.6785  0.700\n",
      "Santa Luzia D'Oeste          135934.0  0.6850  0.670\n",
      "Seringueiras                 169429.0  0.5922  0.598\n",
      "São Felipe D'Oeste            72084.0  0.6153  0.649\n",
      "São Francisco do Guaporé     353000.0  0.6214  0.611\n",
      "São Miguel do Guaporé        616000.0  0.6699  0.646\n",
      "Teixeirópolis                 72089.0  0.6500  0.643\n",
      "Theobroma                    140601.0  0.5405  0.589\n",
      "Urupá                        172143.0  0.6006  0.609\n",
      "Vale do Anari                105208.0  0.5710  0.584\n",
      "Vale do Paraíso              116742.0  0.5818  0.627\n",
      "Vilhena                     2831175.0  0.7465  0.731\n"
     ]
    }
   ],
   "source": [
    "\n",
    "\n",
    "import pandas as pd\n",
    "\n",
    "dados_csv = pd.read_csv('dados_extras_ro.csv', delimiter=';', encoding='latin-1')\n",
    "dados_municipios = pd.DataFrame(dados_csv, columns=['municipio', 'pib', 'ifdm','idh'])\n",
    "\n",
    "\n",
    "# Agrupando os dados por município e calculando a média das colunas 'PIB', 'IFDM' e 'IDH'\n",
    "media_por_municipio = dados_municipios.groupby('municipio')[['pib', 'ifdm', 'idh']].mean()\n",
    "\n",
    "print(media_por_municipio)\n",
    "\n"
   ]
  },
  {
   "attachments": {},
   "cell_type": "markdown",
   "metadata": {},
   "source": [
    "Exemplo:\n",
    "- Ah, descobri que a idade mediana das mulheres que deram a luz no ano de 2019 dos municipios com o PIB mais alto é a maior dentre todas."
   ]
  },
  {
   "cell_type": "code",
   "execution_count": null,
   "metadata": {},
   "outputs": [],
   "source": [
    "Aqui vemos que Porto velho se destaca com os maiores numeros em desenvolvimento pib e idh sua evolução é notoria. "
   ]
  }
 ],
 "metadata": {
  "kernelspec": {
   "display_name": "Python 3",
   "language": "python",
   "name": "python3"
  },
  "language_info": {
   "codemirror_mode": {
    "name": "ipython",
    "version": 3
   },
   "file_extension": ".py",
   "mimetype": "text/x-python",
   "name": "python",
   "nbconvert_exporter": "python",
   "pygments_lexer": "ipython3",
   "version": "3.10.6"
  },
  "varInspector": {
   "cols": {
    "lenName": 16,
    "lenType": 16,
    "lenVar": 40
   },
   "kernels_config": {
    "python": {
     "delete_cmd_postfix": "",
     "delete_cmd_prefix": "del ",
     "library": "var_list.py",
     "varRefreshCmd": "print(var_dic_list())"
    },
    "r": {
     "delete_cmd_postfix": ") ",
     "delete_cmd_prefix": "rm(",
     "library": "var_list.r",
     "varRefreshCmd": "cat(var_dic_list()) "
    }
   },
   "types_to_exclude": [
    "module",
    "function",
    "builtin_function_or_method",
    "instance",
    "_Feature"
   ],
   "window_display": false
  }
 },
 "nbformat": 4,
 "nbformat_minor": 4
}
