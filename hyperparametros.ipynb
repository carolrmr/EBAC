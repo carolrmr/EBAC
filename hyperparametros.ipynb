{
 "cells": [
  {
   "cell_type": "markdown",
   "metadata": {},
   "source": [
    "ATIVIDADE 3"
   ]
  },
  {
   "cell_type": "markdown",
   "metadata": {},
   "source": [
    "\n",
    "O Random Forest é um algoritmo de aprendizado de conjunto baseado em árvores de decisão. Ele possui vários hiperparâmetros que podem ser ajustados para otimizar o desempenho do modelo. Abaixo estão os principais hiperparâmetros do Random Forest e uma breve explicação sobre cada um deles:\n",
    "\n",
    "**ccp_alpha**\n",
    "Parâmetro utilizado para o Minimal Cost-Complexity Pruning. A sub-árvore com maior complexidade de custo (cost complexity) com valor menor que o informado de ccp_alpha será a escolhida.\n",
    "\n",
    "**n_estimators:**\n",
    "\n",
    "Função: Define o número de árvores na floresta.\n",
    "Importância: Um número maior de árvores pode melhorar o desempenho do modelo, mas também aumenta o tempo de treinamento.\n",
    "\n",
    "**criterion:**\n",
    "\n",
    "\n",
    "Função: Define a função para medir a qualidade de uma divisão.\n",
    "Importância: \"gini\" para o índice de Gini e \"entropy\" para o ganho de informação são opções disponíveis. Gini é a métrica padrão.\n",
    "\n",
    "**max_depth:**\n",
    "\n",
    "Função: Define a profundidade máxima de cada árvore de decisão.\n",
    "Importância: Controla a profundidade das árvores para evitar overfitting. Limitar a profundidade pode ajudar a generalização do modelo.\n",
    "\n",
    "**min_samples_split:**\n",
    "\n",
    "Função: Define o número mínimo de amostras necessárias para dividir um nó interno.\n",
    "Importância: Evita divisões que resultam em poucas amostras em qualquer nó, o que pode levar a um ajuste excessivo.\n",
    "\n",
    "**min_samples_leaf:**\n",
    "\n",
    "Função: Define o número mínimo de amostras necessárias para ser uma folha (nó final).\n",
    "Importância: Controla o número mínimo de amostras em uma folha, ajudando a evitar folhas com poucas amostras.\n",
    "\n",
    "**max_features:**\n",
    "\n",
    "Função: Define o número máximo de características a serem consideradas para fazer a divisão em cada nó.\n",
    "Importância: Controla a quantidade de aleatoriedade introduzida em cada árvore. Reduzir esse valor pode reduzir a correlação entre as árvores, tornando o modelo mais robusto.\n",
    "\n",
    "**bootstrap:**\n",
    "\n",
    "Função: Define se deve usar bootstrap ou não para construir árvores.\n",
    "Importância: Se definido como True, utiliza amostragem bootstrap, o que significa que cada árvore é construída em uma amostra aleatória dos dados de treinamento.\n",
    "\n",
    "Esses são alguns dos principais hiperparâmetros do Random Forest. A escolha adequada dos hiperparâmetros pode influenciar significativamente o desempenho do modelo e sua capacidade de generalização para novos dados. É comum realizar uma busca de hiperparâmetros (usando métodos como GridSearchCV ou RandomizedSearchCV do scikit-learn) para encontrar a combinação ideal de hiperparâmetros para um determinado conjunto de dados."
   ]
  }
 ],
 "metadata": {
  "language_info": {
   "name": "python"
  }
 },
 "nbformat": 4,
 "nbformat_minor": 2
}
