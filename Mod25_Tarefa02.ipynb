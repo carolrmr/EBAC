{
 "cells": [
  {
   "cell_type": "markdown",
   "metadata": {},
   "source": [
    "# Cálculo - Tarefa 02\n",
    "\n",
    "1- Calcule de forma numérica a integral da função $x^3$ avaliada entre os pontos $1$ e $2$. Identifique o número de retângulos que você usou.  \n",
    "2- Calcule essa área de forma analítica."
   ]
  },
  {
   "cell_type": "code",
   "execution_count": 1,
   "metadata": {},
   "outputs": [],
   "source": [
    "import pandas as pd\n",
    "import numpy as np"
   ]
  },
  {
   "cell_type": "code",
   "execution_count": 1,
   "metadata": {},
   "outputs": [
    {
     "name": "stdout",
     "output_type": "stream",
     "text": [
      "O resultado da integral definida é: 3.7500000000000004\n"
     ]
    }
   ],
   "source": [
    "from scipy import integrate\n",
    "\n",
    "# Defina a função a ser integrada\n",
    "def f(x):\n",
    "    return x**3\n",
    "\n",
    "# Calcule a integral definida\n",
    "result, error = integrate.quad(f, 1, 2)\n",
    "\n",
    "# Imprima o resultado\n",
    "print(f\"O resultado da integral definida é: {result}\")"
   ]
  },
  {
   "cell_type": "markdown",
   "metadata": {},
   "source": [
    "\n",
    "**Cálculo Numérico:**\n",
    "\n",
    "Para calcular numericamente a integral da função x³ entre os pontos 1 e 2,usando a regra dos retangulos: \n",
    "\n",
    " Primeiro, determinamos a largura dos retangulos(Δx):\n",
    "\n",
    " Δx = $\\frac{ponto \\ final - ponto \\ inicial}{\\\\   numero \\ do \\ retangulo }$\n",
    "\n",
    "\n",
    "No intevalo de 1 a 2,Δx =  $\\frac{2-1 }{\\\\n }$,onde n é o numero de retangulos.\n",
    "\n",
    "A area de cada retangulo é Δx X f (ponto medio), onde f(x) é a função x³\n",
    "\n",
    "Por exemplo, paraa n = 4:\n",
    "\n",
    "Δx = $\\frac{2-1}{\\\\ 4  }$ = $\\frac{1}{\\\\ 4 }$ = 0.25\n",
    "\n",
    "Os ponos medios para n = 4 são 1.125,1.375, 1.625 e 1.875.\n",
    "\n",
    "Área Total = (Δx) X [ f (1.125)+ f(1.375) + f(1.625)+ f (1.875)]\n",
    "\n",
    "**Cálculo Analitico:**\n",
    "\n",
    "Para calcular a integral de x³ de forma analítica entre 1 e 2:\n",
    "$$\\int_a^b x^n \\,dx = \\frac{{1}x⁴}{4} \\Bigg|_1^2$$\n",
    "\n",
    "\n",
    "Portanto, a integral de x3 entre 1 e 2 é  3.75.\n",
    "\n",
    "\n",
    "\n",
    "\n",
    "\n",
    "\n"
   ]
  }
 ],
 "metadata": {
  "kernelspec": {
   "display_name": "Python 3",
   "language": "python",
   "name": "python3"
  },
  "language_info": {
   "codemirror_mode": {
    "name": "ipython",
    "version": 3
   },
   "file_extension": ".py",
   "mimetype": "text/x-python",
   "name": "python",
   "nbconvert_exporter": "python",
   "pygments_lexer": "ipython3",
   "version": "3.10.12"
  },
  "toc": {
   "base_numbering": 1,
   "nav_menu": {},
   "number_sections": true,
   "sideBar": true,
   "skip_h1_title": true,
   "title_cell": "Índice",
   "title_sidebar": "Conteúdo",
   "toc_cell": false,
   "toc_position": {},
   "toc_section_display": true,
   "toc_window_display": false
  },
  "varInspector": {
   "cols": {
    "lenName": 16,
    "lenType": 16,
    "lenVar": 40
   },
   "kernels_config": {
    "python": {
     "delete_cmd_postfix": "",
     "delete_cmd_prefix": "del ",
     "library": "var_list.py",
     "varRefreshCmd": "print(var_dic_list())"
    },
    "r": {
     "delete_cmd_postfix": ") ",
     "delete_cmd_prefix": "rm(",
     "library": "var_list.r",
     "varRefreshCmd": "cat(var_dic_list()) "
    }
   },
   "types_to_exclude": [
    "module",
    "function",
    "builtin_function_or_method",
    "instance",
    "_Feature"
   ],
   "window_display": false
  }
 },
 "nbformat": 4,
 "nbformat_minor": 4
}
