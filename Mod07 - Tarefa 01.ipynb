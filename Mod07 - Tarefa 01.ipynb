{
 "cells": [
  {
   "attachments": {},
   "cell_type": "markdown",
   "metadata": {},
   "source": [
    "# Módulo 07, Tarefa 01\n",
    "\n",
    "Vamos começar a mexer na nossa base de projeto? Já fizemos um exercício de montar a variável resposta, já pudemos perceber que essa atividade pode não ser trivial. Vamos agora trabalhar a base para que fique propícia ao *scikitlearn* para trabalharmos.\n",
    "\n",
    "Lembrando, a base se chama demo01.csv, e originalmente está publicada [aqui](https://www.kaggle.com/rikdifos/credit-card-approval-prediction)."
   ]
  },
  {
   "attachments": {},
   "cell_type": "markdown",
   "metadata": {},
   "source": [
    "#### 1) Carregue a base e avalie:\n",
    "\n",
    "- As variáveis\n",
    "- Tipos de dados de cada variável\n",
    "- Quantidade de missings\n",
    "- Distribuição da variável resposta (mau)"
   ]
  },
  {
   "cell_type": "code",
   "execution_count": 20,
   "metadata": {},
   "outputs": [
    {
     "name": "stdout",
     "output_type": "stream",
     "text": [
      "sexo                     0\n",
      "posse_de_veiculo         0\n",
      "posse_de_imovel          0\n",
      "qtd_filhos               0\n",
      "tipo_renda               0\n",
      "educacao                 0\n",
      "estado_civil             0\n",
      "tipo_residencia          0\n",
      "idade                    0\n",
      "tempo_emprego            0\n",
      "possui_celular           0\n",
      "possui_fone_comercial    0\n",
      "possui_fone              0\n",
      "possui_email             0\n",
      "qt_pessoas_residencia    0\n",
      "mau                      0\n",
      "dtype: int64\n"
     ]
    }
   ],
   "source": [
    "import pandas as pd\n",
    "import seaborn as sns\n",
    "import matplotlib.pyplot as plt\n",
    "\n",
    "\n",
    "\n",
    "dataframe = pd.read_csv('demo01.csv')\n",
    "colunas_interesse = ['sexo', 'posse_de_veiculo', 'posse_de_imovel', 'qtd_filhos', 'tipo_renda', 'educacao', 'estado_civil','tipo_residencia', 'idade', 'tempo_emprego', 'possui_celular', 'possui_fone_comercial', 'possui_fone','possui_email', 'qt_pessoas_residencia', 'mau']\n",
    "dataframe_interesse = dataframe[colunas_interesse]\n",
    "\n",
    "valores_missing = dataframe_interesse.isna().sum()\n",
    "\n",
    "print(valores_missing)"
   ]
  },
  {
   "cell_type": "code",
   "execution_count": 14,
   "metadata": {},
   "outputs": [
    {
     "name": "stdout",
     "output_type": "stream",
     "text": [
      "  sexo posse_de_veiculo posse_de_imovel  qtd_filhos            tipo_renda   \n",
      "0    M                Y               Y           0               Working  \\\n",
      "1    F                N               Y           0  Commercial associate   \n",
      "2    F                N               Y           0  Commercial associate   \n",
      "3    M                Y               Y           0               Working   \n",
      "4    F                Y               N           0               Working   \n",
      "\n",
      "                        educacao          estado_civil    tipo_residencia   \n",
      "0  Secondary / secondary special               Married  House / apartment  \\\n",
      "1  Secondary / secondary special  Single / not married  House / apartment   \n",
      "2  Secondary / secondary special  Single / not married  House / apartment   \n",
      "3               Higher education               Married  House / apartment   \n",
      "4              Incomplete higher               Married  House / apartment   \n",
      "\n",
      "       idade  tempo_emprego  possui_celular  possui_fone_comercial   \n",
      "0  58.832877       3.106849               1                      0  \\\n",
      "1  52.356164       8.358904               1                      0   \n",
      "2  52.356164       8.358904               1                      0   \n",
      "3  46.224658       2.106849               1                      1   \n",
      "4  29.230137       3.021918               1                      0   \n",
      "\n",
      "   possui_fone  possui_email  qt_pessoas_residencia    mau  \n",
      "0            0             0                    2.0  False  \n",
      "1            1             1                    1.0  False  \n",
      "2            1             1                    1.0  False  \n",
      "3            1             1                    2.0  False  \n",
      "4            0             0                    2.0  False  \n"
     ]
    }
   ],
   "source": [
    "dataframe = pd.read_csv('demo01.csv')\n",
    "print(dataframe.head())"
   ]
  },
  {
   "attachments": {},
   "cell_type": "markdown",
   "metadata": {},
   "source": [
    "#### 2) Vamos montar um metadados\n",
    "\n",
    "1. Crie um dataframe com os nomes de cada variável e o tipo de dados de cada variável.\n",
    "2. Adicione uma coluna nesse *dataframe* chamada \"qtd_categorias\" e coloque nela o número de categorias correspondente de cada variável. \n",
    "    Dica: \n",
    "        1. inicie uma lista vazia\n",
    "        2. faça um for ao longo dos nomes das variáveis, \n",
    "        3. conte o número de categorias dessa variável \n",
    "        4. acumule essa informação de 3. na lista que você criou em 1. \n",
    "        5. No final, essa lista pode ser atribuída à nossa variável.\n",
    "3. Crie variáveis dummy para as variáveis necessárias (i.e. aquelas que são qualitativas e não estão armazenadas como {0, 1} ou {True, False}."
   ]
  },
  {
   "cell_type": "code",
   "execution_count": 24,
   "metadata": {},
   "outputs": [
    {
     "name": "stdout",
     "output_type": "stream",
     "text": [
      "  sexo posse_de_veiculo posse_de_imovel  qtd_filhos            tipo_renda   \n",
      "0    M                Y               Y           0               Working  \\\n",
      "1    F                N               Y           0  Commercial associate   \n",
      "2    F                N               Y           0  Commercial associate   \n",
      "3    M                Y               Y           0               Working   \n",
      "4    F                Y               N           0               Working   \n",
      "\n",
      "                        educacao          estado_civil    tipo_residencia   \n",
      "0  Secondary / secondary special               Married  House / apartment  \\\n",
      "1  Secondary / secondary special  Single / not married  House / apartment   \n",
      "2  Secondary / secondary special  Single / not married  House / apartment   \n",
      "3               Higher education               Married  House / apartment   \n",
      "4              Incomplete higher               Married  House / apartment   \n",
      "\n",
      "       idade  tempo_emprego  ...  educacao_Secondary / secondary special   \n",
      "0  58.832877       3.106849  ...                                    True  \\\n",
      "1  52.356164       8.358904  ...                                    True   \n",
      "2  52.356164       8.358904  ...                                    True   \n",
      "3  46.224658       2.106849  ...                                   False   \n",
      "4  29.230137       3.021918  ...                                   False   \n",
      "\n",
      "   estado_civil_Married  estado_civil_Separated   \n",
      "0                  True                   False  \\\n",
      "1                 False                   False   \n",
      "2                 False                   False   \n",
      "3                  True                   False   \n",
      "4                  True                   False   \n",
      "\n",
      "   estado_civil_Single / not married  estado_civil_Widow   \n",
      "0                              False               False  \\\n",
      "1                               True               False   \n",
      "2                               True               False   \n",
      "3                              False               False   \n",
      "4                              False               False   \n",
      "\n",
      "   tipo_residencia_House / apartment  tipo_residencia_Municipal apartment   \n",
      "0                               True                                False  \\\n",
      "1                               True                                False   \n",
      "2                               True                                False   \n",
      "3                               True                                False   \n",
      "4                               True                                False   \n",
      "\n",
      "   tipo_residencia_Office apartment  tipo_residencia_Rented apartment   \n",
      "0                             False                             False  \\\n",
      "1                             False                             False   \n",
      "2                             False                             False   \n",
      "3                             False                             False   \n",
      "4                             False                             False   \n",
      "\n",
      "   tipo_residencia_With parents  \n",
      "0                         False  \n",
      "1                         False  \n",
      "2                         False  \n",
      "3                         False  \n",
      "4                         False  \n",
      "\n",
      "[5 rows x 67 columns]\n"
     ]
    }
   ],
   "source": [
    "\n",
    "import pandas as pd\n",
    "\n",
    "metadados = {\n",
    "    'variavel': ['sexo', 'posse_de_veiculo', 'posse_de_imovel', 'qtd_filhos', 'tipo_renda', 'educacao', 'estado_civil',\n",
    "                 'tipo_residencia', 'idade', 'tempo_emprego', 'possui_celular', 'possui_fone_comercial', 'possui_fone',\n",
    "                 'possui_email', 'qt_pessoas_residencia', 'mau'],\n",
    "    'tipo_dados': ['object', 'object', 'object', 'int', 'object', 'object', 'object', 'object', 'int', 'int', 'int',\n",
    "                   'int', 'int', 'int', 'int', 'int']\n",
    "}\n",
    "\n",
    "metadados_df = pd.DataFrame(metadados)\n",
    "\n",
    "metadados_df['qtd_categorias'] = metadados_df['variavel'].apply(lambda x: len(set(dataframe[x])))\n",
    "\n",
    "variaveis_qualitativas = metadados_df[(metadados_df['tipo_dados'] == 'object') & (metadados_df['qtd_categorias'] > 2)]['variavel']\n",
    "\n",
    "dummy_variables = pd.get_dummies(dataframe[variaveis_qualitativas], drop_first=True)\n",
    "\n",
    "dataframe = pd.concat([dataframe, dummy_variables], axis=1)\n",
    "print(dataframe.head())\n",
    "\n"
   ]
  },
  {
   "attachments": {},
   "cell_type": "markdown",
   "metadata": {},
   "source": [
    "#### 3) Crie variáveis dummy para as variáveis necessárias (i.e. aquelas que são qualitativas e não estão armazenadas como {0, 1} ou {True, False}. Crie um *dataframe* apenas com as variáveis apropriadas para entrada no scikitlearn - elimine as variáveis tipo *str*, mantendo apenas suas versões *dummy*."
   ]
  },
  {
   "cell_type": "code",
   "execution_count": 23,
   "metadata": {},
   "outputs": [
    {
     "name": "stdout",
     "output_type": "stream",
     "text": [
      "  sexo posse_de_veiculo posse_de_imovel  qtd_filhos      idade  tempo_emprego   \n",
      "0    M                Y               Y           0  58.832877       3.106849  \\\n",
      "1    F                N               Y           0  52.356164       8.358904   \n",
      "2    F                N               Y           0  52.356164       8.358904   \n",
      "3    M                Y               Y           0  46.224658       2.106849   \n",
      "4    F                Y               N           0  29.230137       3.021918   \n",
      "\n",
      "   possui_celular  possui_fone_comercial  possui_fone  possui_email  ...   \n",
      "0               1                      0            0             0  ...  \\\n",
      "1               1                      0            1             1  ...   \n",
      "2               1                      0            1             1  ...   \n",
      "3               1                      1            1             1  ...   \n",
      "4               1                      0            0             0  ...   \n",
      "\n",
      "   educacao_Secondary / secondary special  estado_civil_Married   \n",
      "0                                    True                  True  \\\n",
      "1                                    True                 False   \n",
      "2                                    True                 False   \n",
      "3                                   False                  True   \n",
      "4                                   False                  True   \n",
      "\n",
      "   estado_civil_Separated  estado_civil_Single / not married   \n",
      "0                   False                              False  \\\n",
      "1                   False                               True   \n",
      "2                   False                               True   \n",
      "3                   False                              False   \n",
      "4                   False                              False   \n",
      "\n",
      "   estado_civil_Widow  tipo_residencia_House / apartment   \n",
      "0               False                               True  \\\n",
      "1               False                               True   \n",
      "2               False                               True   \n",
      "3               False                               True   \n",
      "4               False                               True   \n",
      "\n",
      "   tipo_residencia_Municipal apartment  tipo_residencia_Office apartment   \n",
      "0                                False                             False  \\\n",
      "1                                False                             False   \n",
      "2                                False                             False   \n",
      "3                                False                             False   \n",
      "4                                False                             False   \n",
      "\n",
      "   tipo_residencia_Rented apartment  tipo_residencia_With parents  \n",
      "0                             False                         False  \n",
      "1                             False                         False  \n",
      "2                             False                         False  \n",
      "3                             False                         False  \n",
      "4                             False                         False  \n",
      "\n",
      "[5 rows x 63 columns]\n"
     ]
    }
   ],
   "source": [
    "import pandas as pd\n",
    "import numpy as np\n",
    "\n",
    "variaveis_qualitativas = metadados_df[(metadados_df['tipo_dados'] == 'object') & (metadados_df['qtd_categorias'] > 2)]['variavel']\n",
    "\n",
    "dummy_variables = pd.get_dummies(dataframe[variaveis_qualitativas], drop_first=True)\n",
    "\n",
    "dataframe_dummy = pd.concat([dataframe.drop(variaveis_qualitativas, axis=1), dummy_variables], axis=1)\n",
    "\n",
    "print(dataframe_dummy.head())\n"
   ]
  },
  {
   "attachments": {},
   "cell_type": "markdown",
   "metadata": {},
   "source": [
    "#### 4) Qual variável é mais poderosa?\n",
    "\n",
    "Considere as variáveis ```possui_email``` e ```posse_de_veiculo```. Faça uma tabela cruzada entre elas e responda qual delas te parece mais poderosa para prever a probabilidade de ```mau = 1```?"
   ]
  },
  {
   "cell_type": "code",
   "execution_count": 25,
   "metadata": {},
   "outputs": [
    {
     "name": "stdout",
     "output_type": "stream",
     "text": [
      "posse_de_veiculo         N         Y\n",
      "possui_email                        \n",
      "0                 0.024944  0.021788\n",
      "1                 0.016726  0.024883\n"
     ]
    }
   ],
   "source": [
    "tabela_cruzada = pd.crosstab(dataframe['possui_email'], dataframe['posse_de_veiculo'], values=dataframe['mau'], aggfunc='mean')\n",
    "\n",
    "print(tabela_cruzada)\n"
   ]
  },
  {
   "attachments": {},
   "cell_type": "markdown",
   "metadata": {},
   "source": [
    "#### 5) Salve a base, pois ela será utilizada no final deste módulo."
   ]
  },
  {
   "cell_type": "code",
   "execution_count": 27,
   "metadata": {},
   "outputs": [],
   "source": [
    "\n",
    "import pandas as pd\n",
    "\n",
    "dataframe.to_csv('demo01.csv')"
   ]
  }
 ],
 "metadata": {
  "kernelspec": {
   "display_name": "Python 3",
   "language": "python",
   "name": "python3"
  },
  "language_info": {
   "codemirror_mode": {
    "name": "ipython",
    "version": 3
   },
   "file_extension": ".py",
   "mimetype": "text/x-python",
   "name": "python",
   "nbconvert_exporter": "python",
   "pygments_lexer": "ipython3",
   "version": "3.10.6"
  }
 },
 "nbformat": 4,
 "nbformat_minor": 4
}
