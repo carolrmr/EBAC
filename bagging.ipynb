{
 "cells": [
  {
   "cell_type": "markdown",
   "metadata": {},
   "source": [
    "**MODULO 23 - TAREFA 1**\n",
    "\n",
    "1- Monte um passo a passo para o Bagging\n",
    "\n",
    "2- Explique com suas palvras o Bagging.\n",
    "\n",
    "3- Implementar em python o codigo do Bagging\n",
    "\n",
    "-Bootstrap\n",
    "\n",
    "-Modelagem\n",
    "\n",
    "-Agregação \n",
    "\n"
   ]
  },
  {
   "cell_type": "markdown",
   "metadata": {},
   "source": [
    "*PASSSO A PASSO* \n",
    "\n",
    "O Bagging (Bootstrap Aggregating) é uma técnica de ensemble learning que combina vários modelos de aprendizado de máquina para melhorar o desempenho preditivo.\n",
    "\n",
    "*Conjunto de Dados de Treinamento:*\n",
    "\n",
    "Comece com um conjunto de dados de treinamento, que contém exemplos rotulados (características e suas saídas correspondentes).\n",
    "\n",
    "*Amostragem Bootstrap:*\n",
    "\n",
    "Realize amostragem com substituição no conjunto de treinamento para criar vários conjuntos de dados de treinamento de tamanho igual ao original.\n",
    "O método Bootstrap envolve amostrar aleatoriamente com substituição a partir do conjunto de dados original para criar múltiplos subconjuntos de dados.\n",
    "Construção de Modelos:\n",
    "\n",
    "Para cada um desses conjuntos de dados de treinamento (obtidos por amostragem Bootstrap), treine um modelo de aprendizado de máquina. Geralmente, o mesmo algoritmo é utilizado para cada conjunto.\n",
    "\n",
    "*Treinamento Independente:*\n",
    "\n",
    "Cada modelo é treinado independentemente nos diferentes subconjuntos de dados.\n",
    "\n",
    "*Agregação (Combinação) de Modelos:*\n",
    "\n",
    "Para problemas de regressão, a previsão final é frequentemente a média das previsões de todos os modelos.\n",
    "Para problemas de classificação, pode-se usar um voto majoritário para determinar a classe final prevista.\n",
    "\n",
    "*Redução da Variância:*\n",
    "\n",
    "A ideia chave por trás do Bagging é reduzir a variância dos modelos individuais combinando-os. Isso geralmente leva a uma melhor generalização e desempenho mais estável do que um único modelo.\n",
    "\n",
    "*Desempenho Geral:*\n",
    "\n",
    "O desempenho do modelo Bagging é avaliado com base em métricas de avaliação relevantes, como precisão, F1-score, erro quadrático médio (RMSE) ou outras métricas aplicáveis ao problema em questão.\n",
    "O Bagging é usado principalmente com modelos que possuem alta variância e são propensos a overfitting. Algoritmos como Árvores de Decisão, Random Forest e Bagged Decision Trees se beneficiam muito com o Bagging."
   ]
  },
  {
   "cell_type": "markdown",
   "metadata": {},
   "source": [
    "**Bagging**\n",
    "\n",
    "O bagging ou bootstrap aggregation é um método em que existe vários classificadores do mesmo tipo, onde cada um desses classificadores pega uma parte do conjunto de amostra, cada qual gera suas predições onde a mesma é levada em conta em um sistema de média ou votação para produzir uma predição final.\n",
    "\n",
    "Assim  combina vários modelos de aprendizado de máquina para melhorar o desempenho "
   ]
  },
  {
   "cell_type": "code",
   "execution_count": 2,
   "metadata": {},
   "outputs": [
    {
     "name": "stdout",
     "output_type": "stream",
     "text": [
      "Acurácia do modelo Bagging: 1.0\n"
     ]
    }
   ],
   "source": [
    "from sklearn.datasets import load_iris\n",
    "from sklearn.model_selection import train_test_split\n",
    "from sklearn.tree import DecisionTreeClassifier\n",
    "from sklearn.ensemble import BaggingClassifier\n",
    "from sklearn.metrics import accuracy_score\n",
    "\n",
    "# Carregar conjunto de dados \n",
    "data = load_iris()\n",
    "X = data.data\n",
    "y = data.target\n",
    "\n",
    "# Dividir os dados em conjuntos de treinamento e teste\n",
    "X_train, X_test, y_train, y_test = train_test_split(X, y, test_size=0.3, random_state=42)\n",
    "\n",
    "# Definir o classificador base (Árvore de Decisão)\n",
    "base_classifier = DecisionTreeClassifier(random_state=42)\n",
    "\n",
    "# Definir o classificador Bagging usando Árvore de Decisão como estimador base\n",
    "bagging_classifier = BaggingClassifier(estimator=base_classifier, n_estimators=10, random_state=42)\n",
    "\n",
    "# Treinar o classificador Bagging\n",
    "bagging_classifier.fit(X_train, y_train)\n",
    "\n",
    "# Fazer previsões no conjunto de teste\n",
    "predictions = bagging_classifier.predict(X_test)\n",
    "\n",
    "# Calcular a acurácia do modelo\n",
    "accuracy = accuracy_score(y_test, predictions)\n",
    "print(f'Acurácia do modelo Bagging: {accuracy}')\n"
   ]
  }
 ],
 "metadata": {
  "kernelspec": {
   "display_name": "Python 3",
   "language": "python",
   "name": "python3"
  },
  "language_info": {
   "codemirror_mode": {
    "name": "ipython",
    "version": 3
   },
   "file_extension": ".py",
   "mimetype": "text/x-python",
   "name": "python",
   "nbconvert_exporter": "python",
   "pygments_lexer": "ipython3",
   "version": "3.10.12"
  }
 },
 "nbformat": 4,
 "nbformat_minor": 2
}
