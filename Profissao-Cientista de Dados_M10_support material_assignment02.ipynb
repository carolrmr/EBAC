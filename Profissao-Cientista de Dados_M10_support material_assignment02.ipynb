{
 "cells": [
  {
   "attachments": {},
   "cell_type": "markdown",
   "metadata": {},
   "source": [
    "# Módulo 10 tarefa 2\n",
    "\n",
    "Considere a mesma base de dados utilizada na tarefa 1 ```previsao_de_renda.csv```."
   ]
  },
  {
   "attachments": {},
   "cell_type": "markdown",
   "metadata": {},
   "source": [
    "1) Com o que você viu em aula, faça uma análise das variáveis qualitativas (posse de imóvel e posse de veículo) para verificar se são boas preditoras de *renda*. Alguma delas parece discriminar *renda* de forma estatisticamente significante?"
   ]
  },
  {
   "cell_type": "code",
   "execution_count": 1,
   "metadata": {},
   "outputs": [
    {
     "name": "stdout",
     "output_type": "stream",
     "text": [
      "Análise para 'posse de imóvel':\n",
      "Categoria 'True':\n",
      "Média de renda: 4721.052703828605\n",
      "Desvio padrão de renda: 4654.266816849429\n",
      "P-valor: 0.1065530729286311\n",
      "\n",
      "Categoria 'False':\n",
      "Média de renda: 4426.970481903212\n",
      "Desvio padrão de renda: 4569.55838371368\n",
      "P-valor: 0.009138210870216289\n",
      "\n",
      "Análise para 'posse de veículo':\n",
      "Categoria 'False':\n",
      "Média de renda: 4390.506963019527\n",
      "Desvio padrão de renda: 4545.776180293952\n",
      "P-valor: 0.0001226419991691175\n",
      "\n",
      "Categoria 'True':\n",
      "Média de renda: 4992.579609120521\n",
      "Desvio padrão de renda: 4732.823336671651\n",
      "P-valor: 3.0957189161243485e-07\n",
      "\n"
     ]
    }
   ],
   "source": [
    "import pandas as pd\n",
    "import scipy.stats as stats\n",
    "\n",
    "# Carregar os dados do arquivo CSV em um DataFrame\n",
    "df = pd.read_csv('previsao_de_renda.csv')\n",
    "\n",
    "# Remover a coluna 'index', se estiver presente (caso ela seja um identificador sequencial)\n",
    "df = df.drop(columns=['index'], errors='ignore')\n",
    "\n",
    "# Análise para 'posse de imóvel'\n",
    "print(\"Análise para 'posse de imóvel':\")\n",
    "for category in df['posse_de_imovel'].unique():\n",
    "    data = df[df['posse_de_imovel'] == category]['renda']\n",
    "    print(f\"Categoria '{category}':\")\n",
    "    print(\"Média de renda:\", data.mean())\n",
    "    print(\"Desvio padrão de renda:\", data.std())\n",
    "    t_statistic, p_value = stats.ttest_ind(data, df['renda'])\n",
    "    print(\"P-valor:\", p_value)\n",
    "    print(\"\")\n",
    "\n",
    "# Análise para 'posse de veículo'\n",
    "print(\"Análise para 'posse de veículo':\")\n",
    "for category in df['posse_de_veiculo'].unique():\n",
    "    data = df[df['posse_de_veiculo'] == category]['renda']\n",
    "    print(f\"Categoria '{category}':\")\n",
    "    print(\"Média de renda:\", data.mean())\n",
    "    print(\"Desvio padrão de renda:\", data.std())\n",
    "    t_statistic, p_value = stats.ttest_ind(data, df['renda'])\n",
    "    print(\"P-valor:\", p_value)\n",
    "    print(\"\")\n"
   ]
  }
 ],
 "metadata": {
  "kernelspec": {
   "display_name": "Python 3",
   "language": "python",
   "name": "python3"
  },
  "language_info": {
   "codemirror_mode": {
    "name": "ipython",
    "version": 3
   },
   "file_extension": ".py",
   "mimetype": "text/x-python",
   "name": "python",
   "nbconvert_exporter": "python",
   "pygments_lexer": "ipython3",
   "version": "3.10.6"
  }
 },
 "nbformat": 4,
 "nbformat_minor": 4
}
