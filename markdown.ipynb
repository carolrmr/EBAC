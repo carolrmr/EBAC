{
 "cells": [
  {
   "cell_type": "markdown",
   "metadata": {},
   "source": [
    "\n",
    "<span style=\"color:lightblue\">**FÓRMULA DE BHASKARA**</span>"
   ]
  },
  {
   "cell_type": "markdown",
   "metadata": {},
   "source": [
    "A solução par as funções de segundo grau depende das suas raízes (Valores de X). Como já vimos,os coeficientes precisam ser numeros reais o angular diferente de zero. Sendo assim, temos a seguinte fórmula de Bhaskara:\n",
    "\n",
    "\n",
    "$$\\frac{X = (-b ± √(b² - 4ac))}{\\\\  2a}$$\n",
    "\n",
    "**<p align=\"center\">Fórmula de Bhaskara</p>**"
   ]
  },
  {
   "cell_type": "markdown",
   "metadata": {},
   "source": [
    "Para melhor compreensão o seu cálculo é dividido em duas partes: discriminantes da equação e operações para determinar as raízes.\n",
    "\n",
    "**Disciminate**\n",
    "\n",
    "A figura dentro da raiz na fórmula de Bhaskara é nomeada de discriminate. Seu Símbolo é a letra grega delta e apresenta a determinada fórmula:\n",
    " \n",
    "$$Δ = b² - 4ac$$\n",
    "**<p align=\"center\">Fórmula da discriminante</p>**\n",
    "\n",
    "- Se o delta for maior que zero, a equação terá dois valores reais e distintos.\n",
    "- Se o delta for igual zero, a equação terá somente um valor real ou dois resultados iguais.\n",
    "- Se o delta for menor que zero, a equação não possuirá valores reais.\n"
   ]
  }
 ],
 "metadata": {
  "kernelspec": {
   "display_name": "Python 3",
   "language": "python",
   "name": "python3"
  },
  "language_info": {
   "codemirror_mode": {
    "name": "ipython",
    "version": 3
   },
   "file_extension": ".py",
   "mimetype": "text/x-python",
   "name": "python",
   "nbconvert_exporter": "python",
   "pygments_lexer": "ipython3",
   "version": "3.10.6"
  },
  "orig_nbformat": 4
 },
 "nbformat": 4,
 "nbformat_minor": 2
}
