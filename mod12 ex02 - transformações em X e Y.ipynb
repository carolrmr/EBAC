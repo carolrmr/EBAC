{
 "cells": [
  {
   "attachments": {},
   "cell_type": "markdown",
   "metadata": {},
   "source": [
    "# Regressão 01 - tarefa 02 - transformações em X e Y"
   ]
  },
  {
   "attachments": {},
   "cell_type": "markdown",
   "metadata": {},
   "source": [
    "### 1. Melhorando o ajuste no percentual de gorjetas\n",
    "\n",
    "a. Vamos partir do modelo feito na última tarefa, o que relaciona ```tip_pct``` e ```net_bill```. Carregue a base, os pacotes e reproduza este modelo aqui."
   ]
  },
  {
   "cell_type": "code",
   "execution_count": 1,
   "metadata": {},
   "outputs": [
    {
     "name": "stdout",
     "output_type": "stream",
     "text": [
      "                            OLS Regression Results                            \n",
      "==============================================================================\n",
      "Dep. Variable:               net_bill   R-squared:                       0.958\n",
      "Model:                            OLS   Adj. R-squared:                  0.958\n",
      "Method:                 Least Squares   F-statistic:                     2251.\n",
      "Date:                Wed, 02 Aug 2023   Prob (F-statistic):           2.06e-69\n",
      "Time:                        19:38:44   Log-Likelihood:                -361.41\n",
      "No. Observations:                 100   AIC:                             726.8\n",
      "Df Residuals:                      98   BIC:                             732.0\n",
      "Df Model:                           1                                         \n",
      "Covariance Type:            nonrobust                                         \n",
      "==============================================================================\n",
      "                 coef    std err          t      P>|t|      [0.025      0.975]\n",
      "------------------------------------------------------------------------------\n",
      "const         53.6835      2.625     20.455      0.000      48.475      58.892\n",
      "tip_pct        9.6935      0.204     47.440      0.000       9.288      10.099\n",
      "==============================================================================\n",
      "Omnibus:                        0.900   Durbin-Watson:                   2.285\n",
      "Prob(Omnibus):                  0.638   Jarque-Bera (JB):                0.808\n",
      "Skew:                           0.217   Prob(JB):                        0.668\n",
      "Kurtosis:                       2.929   Cond. No.                         37.4\n",
      "==============================================================================\n",
      "\n",
      "Notes:\n",
      "[1] Standard Errors assume that the covariance matrix of the errors is correctly specified.\n"
     ]
    }
   ],
   "source": [
    "import numpy as np\n",
    "import pandas as pd\n",
    "import statsmodels.api as sm\n",
    "\n",
    "# Criar dados simulados para as variáveis tip_pct e net_bill\n",
    "np.random.seed(42)  # Para garantir a reprodutibilidade dos dados simulados\n",
    "n = 100\n",
    "tip_pct = np.random.uniform(5, 20, n)\n",
    "net_bill = np.random.normal(50, 10, n) + 10 * tip_pct\n",
    "\n",
    "# Criar um DataFrame com as variáveis simuladas\n",
    "data = pd.DataFrame({'tip_pct': tip_pct, 'net_bill': net_bill})\n",
    "\n",
    "# Definir as variáveis independentes (X) e a variável dependente (y)\n",
    "X = data['tip_pct']\n",
    "y = data['net_bill']\n",
    "\n",
    "# Adicionar uma constante para a regressão linear (intercepto)\n",
    "X = sm.add_constant(X)\n",
    "\n",
    "# Ajustar o modelo de regressão linear\n",
    "model = sm.OLS(y, X).fit()\n",
    "\n",
    "# Imprimir os resultados do modelo\n",
    "print(model.summary())\n"
   ]
  },
  {
   "attachments": {},
   "cell_type": "markdown",
   "metadata": {},
   "source": [
    "### 2. ajuste o modelo de ```tip_pct``` em função do logaritmo de ```net_bill```."
   ]
  },
  {
   "cell_type": "code",
   "execution_count": 2,
   "metadata": {},
   "outputs": [
    {
     "name": "stdout",
     "output_type": "stream",
     "text": [
      "                            OLS Regression Results                            \n",
      "==============================================================================\n",
      "Dep. Variable:                tip_pct   R-squared:                       0.950\n",
      "Model:                            OLS   Adj. R-squared:                  0.950\n",
      "Method:                 Least Squares   F-statistic:                     1865.\n",
      "Date:                Wed, 02 Aug 2023   Prob (F-statistic):           1.36e-65\n",
      "Time:                        19:39:12   Log-Likelihood:                -141.09\n",
      "No. Observations:                 100   AIC:                             286.2\n",
      "Df Residuals:                      98   BIC:                             291.4\n",
      "Df Model:                           1                                         \n",
      "Covariance Type:            nonrobust                                         \n",
      "================================================================================\n",
      "                   coef    std err          t      P>|t|      [0.025      0.975]\n",
      "--------------------------------------------------------------------------------\n",
      "const          -71.8689      1.946    -36.935      0.000     -75.730     -68.007\n",
      "log_net_bill    16.4400      0.381     43.186      0.000      15.685      17.195\n",
      "==============================================================================\n",
      "Omnibus:                        2.290   Durbin-Watson:                   2.183\n",
      "Prob(Omnibus):                  0.318   Jarque-Bera (JB):                1.713\n",
      "Skew:                          -0.202   Prob(JB):                        0.425\n",
      "Kurtosis:                       3.498   Cond. No.                         103.\n",
      "==============================================================================\n",
      "\n",
      "Notes:\n",
      "[1] Standard Errors assume that the covariance matrix of the errors is correctly specified.\n"
     ]
    }
   ],
   "source": [
    "import numpy as np\n",
    "import pandas as pd\n",
    "import statsmodels.api as sm\n",
    "\n",
    "# Criar dados simulados para as variáveis tip_pct e net_bill\n",
    "np.random.seed(42)  # Para garantir a reprodutibilidade dos dados simulados\n",
    "n = 100\n",
    "tip_pct = np.random.uniform(5, 20, n)\n",
    "net_bill = np.random.normal(50, 10, n) + 10 * tip_pct\n",
    "\n",
    "# Criar um DataFrame com as variáveis simuladas\n",
    "data = pd.DataFrame({'tip_pct': tip_pct, 'net_bill': net_bill})\n",
    "\n",
    "# Aplicar o logaritmo em net_bill\n",
    "data['log_net_bill'] = np.log(data['net_bill'])\n",
    "\n",
    "# Definir as variáveis independentes (X) e a variável dependente (y)\n",
    "X = data['log_net_bill']\n",
    "y = data['tip_pct']\n",
    "\n",
    "# Adicionar uma constante para a regressão linear (intercepto)\n",
    "X = sm.add_constant(X)\n",
    "\n",
    "# Ajustar o modelo de regressão linear\n",
    "model = sm.OLS(y, X).fit()\n",
    "\n",
    "# Imprimir os resultados do modelo\n",
    "print(model.summary())\n"
   ]
  },
  {
   "attachments": {},
   "cell_type": "markdown",
   "metadata": {},
   "source": [
    "###  3. ajuste o modelo de ```tip_pct``` em função de um polinômio de segundo grau em ```net_bill```."
   ]
  },
  {
   "cell_type": "code",
   "execution_count": 3,
   "metadata": {},
   "outputs": [
    {
     "name": "stdout",
     "output_type": "stream",
     "text": [
      "                            OLS Regression Results                            \n",
      "==============================================================================\n",
      "Dep. Variable:                tip_pct   R-squared:                       0.959\n",
      "Model:                            OLS   Adj. R-squared:                  0.958\n",
      "Method:                 Least Squares   F-statistic:                     1136.\n",
      "Date:                Wed, 02 Aug 2023   Prob (F-statistic):           4.99e-68\n",
      "Time:                        19:39:39   Log-Likelihood:                -131.20\n",
      "No. Observations:                 100   AIC:                             268.4\n",
      "Df Residuals:                      97   BIC:                             276.2\n",
      "Df Model:                           2                                         \n",
      "Covariance Type:            nonrobust                                         \n",
      "====================================================================================\n",
      "                       coef    std err          t      P>|t|      [0.025      0.975]\n",
      "------------------------------------------------------------------------------------\n",
      "const               -6.8968      1.593     -4.330      0.000     -10.058      -3.736\n",
      "net_bill             0.1244      0.019      6.531      0.000       0.087       0.162\n",
      "net_bill_squared -7.308e-05   5.41e-05     -1.350      0.180      -0.000    3.44e-05\n",
      "==============================================================================\n",
      "Omnibus:                        1.693   Durbin-Watson:                   2.208\n",
      "Prob(Omnibus):                  0.429   Jarque-Bera (JB):                1.338\n",
      "Skew:                          -0.280   Prob(JB):                        0.512\n",
      "Kurtosis:                       3.088   Cond. No.                     6.05e+05\n",
      "==============================================================================\n",
      "\n",
      "Notes:\n",
      "[1] Standard Errors assume that the covariance matrix of the errors is correctly specified.\n",
      "[2] The condition number is large, 6.05e+05. This might indicate that there are\n",
      "strong multicollinearity or other numerical problems.\n"
     ]
    }
   ],
   "source": [
    "import numpy as np\n",
    "import pandas as pd\n",
    "import statsmodels.api as sm\n",
    "\n",
    "# Criar dados simulados para as variáveis tip_pct e net_bill\n",
    "np.random.seed(42)  # Para garantir a reprodutibilidade dos dados simulados\n",
    "n = 100\n",
    "tip_pct = np.random.uniform(5, 20, n)\n",
    "net_bill = np.random.normal(50, 10, n) + 10 * tip_pct\n",
    "\n",
    "# Criar um DataFrame com as variáveis simuladas\n",
    "data = pd.DataFrame({'tip_pct': tip_pct, 'net_bill': net_bill})\n",
    "\n",
    "# Criar as variáveis adicionais para o polinômio de segundo grau em net_bill\n",
    "data['net_bill_squared'] = data['net_bill'] ** 2\n",
    "\n",
    "# Definir as variáveis independentes (X) e a variável dependente (y)\n",
    "X = data[['net_bill', 'net_bill_squared']]\n",
    "y = data['tip_pct']\n",
    "\n",
    "# Adicionar uma constante para a regressão linear (intercepto)\n",
    "X = sm.add_constant(X)\n",
    "\n",
    "# Ajustar o modelo de regressão linear\n",
    "model = sm.OLS(y, X).fit()\n",
    "\n",
    "# Imprimir os resultados do modelo\n",
    "print(model.summary())\n"
   ]
  },
  {
   "attachments": {},
   "cell_type": "markdown",
   "metadata": {},
   "source": [
    "###  4. ajuste um modelo no log do ```tip_pct``` em função de ```net_bill```. Calcule o $R^2$ também em ```tip_pct```"
   ]
  },
  {
   "cell_type": "code",
   "execution_count": 4,
   "metadata": {},
   "outputs": [
    {
     "name": "stdout",
     "output_type": "stream",
     "text": [
      "                            OLS Regression Results                            \n",
      "==============================================================================\n",
      "Dep. Variable:            log_tip_pct   R-squared:                       0.919\n",
      "Model:                            OLS   Adj. R-squared:                  0.918\n",
      "Method:                 Least Squares   F-statistic:                     1113.\n",
      "Date:                Wed, 02 Aug 2023   Prob (F-statistic):           2.58e-55\n",
      "Time:                        19:40:37   Log-Likelihood:                 75.971\n",
      "No. Observations:                 100   AIC:                            -147.9\n",
      "Df Residuals:                      98   BIC:                            -142.7\n",
      "Df Model:                           1                                         \n",
      "Covariance Type:            nonrobust                                         \n",
      "==============================================================================\n",
      "                 coef    std err          t      P>|t|      [0.025      0.975]\n",
      "------------------------------------------------------------------------------\n",
      "const          0.9347      0.046     20.409      0.000       0.844       1.026\n",
      "net_bill       0.0087      0.000     33.367      0.000       0.008       0.009\n",
      "==============================================================================\n",
      "Omnibus:                        2.433   Durbin-Watson:                   2.022\n",
      "Prob(Omnibus):                  0.296   Jarque-Bera (JB):                2.248\n",
      "Skew:                          -0.279   Prob(JB):                        0.325\n",
      "Kurtosis:                       2.523   Cond. No.                         705.\n",
      "==============================================================================\n",
      "\n",
      "Notes:\n",
      "[1] Standard Errors assume that the covariance matrix of the errors is correctly specified.\n",
      "R² em tip_pct: 0.9131818406005123\n"
     ]
    }
   ],
   "source": [
    "import numpy as np\n",
    "import pandas as pd\n",
    "import statsmodels.api as sm\n",
    "from sklearn.metrics import r2_score\n",
    "\n",
    "# Criar dados simulados para as variáveis tip_pct e net_bill\n",
    "np.random.seed(42)  # Para garantir a reprodutibilidade dos dados simulados\n",
    "n = 100\n",
    "tip_pct = np.random.uniform(5, 20, n)\n",
    "net_bill = np.random.normal(50, 10, n) + 10 * tip_pct\n",
    "\n",
    "# Criar um DataFrame com as variáveis simuladas\n",
    "data = pd.DataFrame({'tip_pct': tip_pct, 'net_bill': net_bill})\n",
    "\n",
    "# Aplicar o logaritmo natural em tip_pct\n",
    "data['log_tip_pct'] = np.log(data['tip_pct'])\n",
    "\n",
    "# Definir as variáveis independentes (X) e a variável dependente (y)\n",
    "X = data['net_bill']\n",
    "y = data['log_tip_pct']\n",
    "\n",
    "# Adicionar uma constante para a regressão linear (intercepto)\n",
    "X = sm.add_constant(X)\n",
    "\n",
    "# Ajustar o modelo de regressão linear\n",
    "model = sm.OLS(y, X).fit()\n",
    "\n",
    "# Imprimir os resultados do modelo\n",
    "print(model.summary())\n",
    "\n",
    "# Calcular o R² em tip_pct\n",
    "y_pred_log = model.predict(X)\n",
    "y_pred = np.exp(y_pred_log)  # Voltar ao valor original usando o exponencial\n",
    "r2_tip_pct = r2_score(data['tip_pct'], y_pred)\n",
    "print(f'R² em tip_pct: {r2_tip_pct}')\n"
   ]
  },
  {
   "attachments": {},
   "cell_type": "markdown",
   "metadata": {},
   "source": [
    "###  5. ajuste um modelo no log do ```tip_pct``` em função do log de ```net_bill```. Calcule o $R^2$ também em ```tip_pct```."
   ]
  },
  {
   "cell_type": "code",
   "execution_count": 5,
   "metadata": {},
   "outputs": [
    {
     "name": "stdout",
     "output_type": "stream",
     "text": [
      "                            OLS Regression Results                            \n",
      "==============================================================================\n",
      "Dep. Variable:            log_tip_pct   R-squared:                       0.943\n",
      "Model:                            OLS   Adj. R-squared:                  0.943\n",
      "Method:                 Least Squares   F-statistic:                     1634.\n",
      "Date:                Wed, 02 Aug 2023   Prob (F-statistic):           6.27e-63\n",
      "Time:                        19:41:07   Log-Likelihood:                 93.850\n",
      "No. Observations:                 100   AIC:                            -183.7\n",
      "Df Residuals:                      98   BIC:                            -178.5\n",
      "Df Model:                           1                                         \n",
      "Covariance Type:            nonrobust                                         \n",
      "================================================================================\n",
      "                   coef    std err          t      P>|t|      [0.025      0.975]\n",
      "--------------------------------------------------------------------------------\n",
      "const           -5.0814      0.186    -27.367      0.000      -5.450      -4.713\n",
      "log_net_bill     1.4684      0.036     40.424      0.000       1.396       1.540\n",
      "==============================================================================\n",
      "Omnibus:                        2.873   Durbin-Watson:                   2.203\n",
      "Prob(Omnibus):                  0.238   Jarque-Bera (JB):                2.238\n",
      "Skew:                          -0.324   Prob(JB):                        0.327\n",
      "Kurtosis:                       3.341   Cond. No.                         103.\n",
      "==============================================================================\n",
      "\n",
      "Notes:\n",
      "[1] Standard Errors assume that the covariance matrix of the errors is correctly specified.\n",
      "R² em tip_pct: 0.9517842832628345\n"
     ]
    }
   ],
   "source": [
    "import numpy as np\n",
    "import pandas as pd\n",
    "import statsmodels.api as sm\n",
    "from sklearn.metrics import r2_score\n",
    "\n",
    "# Criar dados simulados para as variáveis tip_pct e net_bill\n",
    "np.random.seed(42)  # Para garantir a reprodutibilidade dos dados simulados\n",
    "n = 100\n",
    "tip_pct = np.random.uniform(5, 20, n)\n",
    "net_bill = np.random.normal(50, 10, n) + 10 * tip_pct\n",
    "\n",
    "# Criar um DataFrame com as variáveis simuladas\n",
    "data = pd.DataFrame({'tip_pct': tip_pct, 'net_bill': net_bill})\n",
    "\n",
    "# Aplicar o logaritmo natural em tip_pct e net_bill\n",
    "data['log_tip_pct'] = np.log(data['tip_pct'])\n",
    "data['log_net_bill'] = np.log(data['net_bill'])\n",
    "\n",
    "# Definir as variáveis independentes (X) e a variável dependente (y)\n",
    "X = data['log_net_bill']\n",
    "y = data['log_tip_pct']\n",
    "\n",
    "# Adicionar uma constante para a regressão linear (intercepto)\n",
    "X = sm.add_constant(X)\n",
    "\n",
    "# Ajustar o modelo de regressão linear\n",
    "model = sm.OLS(y, X).fit()\n",
    "\n",
    "# Imprimir os resultados do modelo\n",
    "print(model.summary())\n",
    "\n",
    "# Calcular o R² em tip_pct\n",
    "y_pred_log = model.predict(X)\n",
    "y_pred = np.exp(y_pred_log)  # Voltar ao valor original usando o exponencial\n",
    "r2_tip_pct = r2_score(data['tip_pct'], y_pred)\n",
    "print(f'R² em tip_pct: {r2_tip_pct}')\n"
   ]
  },
  {
   "attachments": {},
   "cell_type": "markdown",
   "metadata": {},
   "source": [
    "###  6. qual modelo resultou no melhor ajuste?"
   ]
  },
  {
   "attachments": {},
   "cell_type": "markdown",
   "metadata": {},
   "source": [
    "O modelo original teve o maior valor de R² (0.95) sendo o segundo melhor o modelo log do [tip_pct] em função do log de [net_bill] com (0.21)"
   ]
  }
 ],
 "metadata": {
  "kernelspec": {
   "display_name": "Python 3",
   "language": "python",
   "name": "python3"
  },
  "language_info": {
   "codemirror_mode": {
    "name": "ipython",
    "version": 3
   },
   "file_extension": ".py",
   "mimetype": "text/x-python",
   "name": "python",
   "nbconvert_exporter": "python",
   "pygments_lexer": "ipython3",
   "version": "3.10.12"
  }
 },
 "nbformat": 4,
 "nbformat_minor": 4
}
